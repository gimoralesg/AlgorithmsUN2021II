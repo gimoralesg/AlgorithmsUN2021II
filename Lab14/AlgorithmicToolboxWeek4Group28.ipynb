{
  "nbformat": 4,
  "nbformat_minor": 0,
  "metadata": {
    "colab": {
      "name": "AlgorithmicToolboxWeek4Group28.ipynb",
      "provenance": [],
      "authorship_tag": "ABX9TyP+Q4k3Q8CRVcykCjok4rCd",
      "include_colab_link": true
    },
    "kernelspec": {
      "name": "python3",
      "display_name": "Python 3"
    },
    "language_info": {
      "name": "python"
    }
  },
  "cells": [
    {
      "cell_type": "markdown",
      "metadata": {
        "id": "view-in-github",
        "colab_type": "text"
      },
      "source": [
        "<a href=\"https://colab.research.google.com/github/gimoralesg/AlgorithmsUN2021II/blob/main/Lab14/AlgorithmicToolboxWeek4Group28.ipynb\" target=\"_parent\"><img src=\"https://colab.research.google.com/assets/colab-badge.svg\" alt=\"Open In Colab\"/></a>"
      ]
    },
    {
      "cell_type": "markdown",
      "source": [
        "# **Semana 4 - Algorithmic Toolbox problemas**"
      ],
      "metadata": {
        "id": "iDnMs_BYmkyD"
      }
    },
    {
      "cell_type": "markdown",
      "source": [
        "##**1. Binary search**"
      ],
      "metadata": {
        "id": "_PDqX0wPmuEQ"
      }
    },
    {
      "cell_type": "code",
      "execution_count": 1,
      "metadata": {
        "colab": {
          "base_uri": "https://localhost:8080/"
        },
        "id": "bJXNZnFnkLq8",
        "outputId": "cc6c4f57-aebe-4ee5-944d-acc2d744b1d0"
      },
      "outputs": [
        {
          "output_type": "stream",
          "name": "stdout",
          "text": [
            "Writing binaryS.cpp\n"
          ]
        }
      ],
      "source": [
        "%%writefile binaryS.cpp\n",
        "\n",
        "#include <iostream>\n",
        "#include <cassert>\n",
        "#include <vector>\n",
        "\n",
        "using std::vector;\n",
        "\n",
        "int binary_search(const vector<int> &a, int x, int left, int right) {\n",
        "\n",
        "  //write your code here\n",
        "  int middle = left + (int)(right-left)/2;\n",
        "  if(middle == left){\n",
        "    if(a[middle] == x) return middle;\n",
        "    else if(a[right]==x) return right;\n",
        "    else return -1;\n",
        "  } \n",
        "  if(x<a[middle]){\n",
        "    return binary_search(a, x, left, middle);\n",
        "  }\n",
        "  if(x>a[middle]){\n",
        "    return binary_search(a, x, middle, right);\n",
        "  }\n",
        "  if(x==a[middle]) return middle;\n",
        "  return -1;\n",
        "}\n",
        "\n",
        "int linear_search(const vector<int> &a, int x) {\n",
        "  for (size_t i = 0; i < a.size(); ++i) {\n",
        "    if (a[i] == x) return i;\n",
        "  }\n",
        "  return -1;\n",
        "}\n",
        "\n",
        "int main() {\n",
        "  int n;\n",
        "  std::cin >> n;\n",
        "  vector<int> a(n);\n",
        "  for (size_t i = 0; i < a.size(); i++) {\n",
        "    std::cin >> a[i];\n",
        "  }\n",
        "  int m;\n",
        "  std::cin >> m;\n",
        "  vector<int> b(m);\n",
        "  for (int i = 0; i < m; ++i) {\n",
        "    std::cin >> b[i];\n",
        "  }\n",
        "  for (int i = 0; i < m; ++i) {\n",
        "    //replace with the call to binary_search when implemented\n",
        "    std::cout << binary_search(a, b[i], 0, a.size()-1) << ' ';\n",
        "  }\n",
        "}"
      ]
    },
    {
      "cell_type": "code",
      "source": [
        "!g++ binaryS.cpp && ./a.out"
      ],
      "metadata": {
        "colab": {
          "base_uri": "https://localhost:8080/"
        },
        "id": "BVp7Whbe7jHM",
        "outputId": "ada0a4ca-6063-46af-c8f4-3de6134f242c"
      },
      "execution_count": 2,
      "outputs": [
        {
          "output_type": "stream",
          "name": "stdout",
          "text": [
            "5 1 5 8 12 13 5 8 1 23 1 11\n",
            "2 0 -1 0 -1 "
          ]
        }
      ]
    },
    {
      "cell_type": "markdown",
      "source": [
        "##**4. Improving quicksort**"
      ],
      "metadata": {
        "id": "4UR0QymMsBIf"
      }
    },
    {
      "cell_type": "code",
      "source": [
        "%%writefile impQuicksort.cpp\n",
        "#include <iostream>\n",
        "#include <vector>\n",
        "#include <cstdlib>\n",
        "\n",
        "using std::vector;\n",
        "using std::swap;\n",
        "\n",
        "vector<int> partition2(vector<int> &a, int l, int r) {\n",
        "  int j = l;\n",
        "  int i = r;\n",
        "  int m1 = j;\n",
        "  int m2 = j;\n",
        "  int x = a[l];\n",
        "  while(j<i){\n",
        "    \n",
        "    if(a[j+1]<a[j]){\n",
        "      if(m1==m2) {\n",
        "\n",
        "        swap(a[j+1],a[j]);\n",
        "        j++;\n",
        "        m1 = j;\n",
        "        m2 = j;\n",
        "      }\n",
        "      else {\n",
        "        swap(a[m1],a[j+1]);\n",
        "        j++;\n",
        "        m1++;\n",
        "        m2++;\n",
        "        \n",
        "      }\n",
        "    } \n",
        "    else if(a[j+1]>a[j]){\n",
        "        swap(a[j+1],a[i]);\n",
        "        i--;\n",
        "      \n",
        "    }\n",
        "    else{\n",
        "      if(m1==m2){ \n",
        "        m1 = j;\n",
        "        m2 = j+1;\n",
        "        j++;\n",
        "      }\n",
        "      else{\n",
        "        m2++;\n",
        "        j++;\n",
        "      }\n",
        "    }\n",
        "  }\n",
        "  vector<int> m(2);\n",
        "  \n",
        "  m[0] = m1;\n",
        "  m[1] = m2;\n",
        "  return m;\n",
        "}\n",
        "\n",
        "void randomized_quick_sort(vector<int> &a, int l, int r) {\n",
        "  if (l >= r) {\n",
        "    return;\n",
        "  }\n",
        "\n",
        "  int k = l + rand() % (r - l + 1);\n",
        "  swap(a[l], a[k]);\n",
        "\n",
        "  vector<int> m = partition2(a, l, r);\n",
        "  int m1 = m[0];\n",
        "  int m2 = m[1];\n",
        "\n",
        "  if(m1==-1) return;\n",
        "  randomized_quick_sort(a, l, m1 - 1);\n",
        "  randomized_quick_sort(a, m2 + 1, r);\n",
        "}\n",
        "\n",
        "int main() {\n",
        "  int n;\n",
        "  std::cin >> n;\n",
        "  vector<int> a(n);\n",
        "  for (size_t i = 0; i < a.size(); ++i) {\n",
        "    std::cin >> a[i];\n",
        "  }\n",
        "  randomized_quick_sort(a, 0, a.size() - 1);\n",
        "  for (size_t i = 0; i < a.size(); ++i) {\n",
        "    std::cout << a[i] << ' ';\n",
        "  }\n",
        "}\n"
      ],
      "metadata": {
        "colab": {
          "base_uri": "https://localhost:8080/"
        },
        "id": "2IMNBhElsEVo",
        "outputId": "25478de6-457d-406a-9e07-567f609c343f"
      },
      "execution_count": 3,
      "outputs": [
        {
          "output_type": "stream",
          "name": "stdout",
          "text": [
            "Writing impQuicksort.cpp\n"
          ]
        }
      ]
    },
    {
      "cell_type": "code",
      "source": [
        "!g++ impQuicksort.cpp && ./a.out"
      ],
      "metadata": {
        "colab": {
          "base_uri": "https://localhost:8080/"
        },
        "id": "vsVaJVJu8Gzu",
        "outputId": "653ebb89-37e1-42f6-d004-3f6627a8fff9"
      },
      "execution_count": 4,
      "outputs": [
        {
          "output_type": "stream",
          "name": "stdout",
          "text": [
            "5 2 3 9 2 2\n",
            "2 2 2 3 9 "
          ]
        }
      ]
    },
    {
      "cell_type": "markdown",
      "source": [
        "##**5. Number of inversions**"
      ],
      "metadata": {
        "id": "J03_pe1-sEmQ"
      }
    },
    {
      "cell_type": "code",
      "source": [
        "%%writefile numInversions.cpp\n",
        "\n",
        "#include <algorithm>\n",
        "#include <iostream>\n",
        "#include <vector>\n",
        "\n",
        "using std::vector;\n",
        "using namespace std;\n",
        "int inversions = 0;\n",
        "int get_majority_element(vector<int> &a, int left, int right) {\n",
        "  if (left == right) return -1;\n",
        "  if (left + 1 == right) return a[left];\n",
        "  //write your code here\n",
        "\n",
        "  return -1;\n",
        "}\n",
        "vector<int> merge(vector<int> a, vector<int> b){\n",
        "  vector<int> fusion(a.size() + b.size());\n",
        "  for(int i = 0; i<fusion.size(); i++){\n",
        "   \n",
        "    if((int)a.size()>0 && a[0]<b[0] || b.size()==0){\n",
        "      \n",
        "      fusion[i] = a[0];\n",
        "      a.erase(a.begin());\n",
        "    } \n",
        "    else if((int)b.size()>0 && a[0]>=b[0] || a.size()==0){\n",
        "      if((int)a.size() > 0){\n",
        "        if(a[0]==b[0]) inversions += (int)a.size() -1;\n",
        "        else inversions += (int)a.size();\n",
        "      }\n",
        "      fusion[i] = b[0];\n",
        "      b.erase(b.begin());\n",
        "    }\n",
        "  }\n",
        "  return fusion;\n",
        "}\n",
        "vector<int> mergeSort(vector<int> a){\n",
        "  if (a.size() == 1) return a;\n",
        "\n",
        "  int middle = (int) a.size()/2;\n",
        "  \n",
        "  vector<int> a1(a.begin(), a.begin()+middle);\n",
        "  vector<int> a2(a.begin()+middle, a.end());\n",
        "  vector<int> A =  mergeSort(a1);\n",
        "  vector<int> B =  mergeSort(a2);\n",
        "  return merge(A,B);\n",
        "}\n",
        "\n",
        "\n",
        "int main() {\n",
        "  int n;\n",
        "  std::cin >> n;\n",
        "  vector<int> a(n);\n",
        "  for (size_t i = 0; i < a.size(); ++i) {\n",
        "    std::cin >> a[i];\n",
        "  }\n",
        "  vector<int> b = mergeSort(a);\n",
        "  \n",
        "  int lastOne = -1;\n",
        "  bool exists = false;\n",
        "  lastOne = b[0];\n",
        "  cout<<inversions<<endl;\n",
        "  \n",
        "}"
      ],
      "metadata": {
        "colab": {
          "base_uri": "https://localhost:8080/"
        },
        "id": "uVLCf-wz7862",
        "outputId": "07afc93a-184d-4f1c-dbe5-0feee70629ce"
      },
      "execution_count": 5,
      "outputs": [
        {
          "output_type": "stream",
          "name": "stdout",
          "text": [
            "Writing numInversions.cpp\n"
          ]
        }
      ]
    },
    {
      "cell_type": "code",
      "source": [
        "!g++ numInversions.cpp && ./a.out"
      ],
      "metadata": {
        "colab": {
          "base_uri": "https://localhost:8080/"
        },
        "id": "HTh5HV3479NF",
        "outputId": "b9b0a818-5d83-4d69-e304-d7a133468de5"
      },
      "execution_count": 7,
      "outputs": [
        {
          "output_type": "stream",
          "name": "stdout",
          "text": [
            "5   2 3 9 2 9\n",
            "2\n"
          ]
        }
      ]
    },
    {
      "cell_type": "markdown",
      "source": [
        ""
      ],
      "metadata": {
        "id": "EU2hDuiR96j4"
      }
    },
    {
      "cell_type": "markdown",
      "source": [
        "##**Sreenshot submission**"
      ],
      "metadata": {
        "id": "JFMYaCNp9Ifn"
      }
    },
    {
      "cell_type": "markdown",
      "source": [
        "![scGianMorales](https://raw.githubusercontent.com/gimoralesg/AlgorithmsUN2021II/main/Lab14/SC%20week4ATcoursera.png)"
      ],
      "metadata": {
        "id": "yMOQ_Q3E9NDS"
      }
    }
  ]
}