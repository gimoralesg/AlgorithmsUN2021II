{
  "nbformat": 4,
  "nbformat_minor": 0,
  "metadata": {
    "colab": {
      "name": "AlgorithmicToolboxWeek5Group28.ipynb",
      "provenance": [],
      "authorship_tag": "ABX9TyPpC5oAgSRqfwLUdw7aLGOZ",
      "include_colab_link": true
    },
    "kernelspec": {
      "name": "python3",
      "display_name": "Python 3"
    },
    "language_info": {
      "name": "python"
    }
  },
  "cells": [
    {
      "cell_type": "markdown",
      "metadata": {
        "id": "view-in-github",
        "colab_type": "text"
      },
      "source": [
        "<a href=\"https://colab.research.google.com/github/gimoralesg/AlgorithmsUN2021II/blob/main/Lab15/AlgorithmicToolboxWeek5Group28.ipynb\" target=\"_parent\"><img src=\"https://colab.research.google.com/assets/colab-badge.svg\" alt=\"Open In Colab\"/></a>"
      ]
    },
    {
      "cell_type": "markdown",
      "source": [
        "#**Semana 5 - Algorithmic Toolbox problemas**\n",
        "\n",
        "\n",
        "##**1. Money Change Again**"
      ],
      "metadata": {
        "id": "icbziEIr--ow"
      }
    },
    {
      "cell_type": "code",
      "execution_count": 5,
      "metadata": {
        "colab": {
          "base_uri": "https://localhost:8080/"
        },
        "id": "Mu1ZFypB-HSp",
        "outputId": "1353c438-6f91-4627-c5df-3fb58cab65db"
      },
      "outputs": [
        {
          "output_type": "stream",
          "name": "stdout",
          "text": [
            "Overwriting moneychangeagain.cpp\n"
          ]
        }
      ],
      "source": [
        "%%writefile moneychangeagain.cpp\n",
        "#include <iostream>\n",
        "#include <vector>\n",
        "\n",
        "using std::vector;\n",
        "int get_change(int m) {\n",
        "  //write your code here\n",
        "  vector<int> coins = {1,3,4};\n",
        "  vector<int> money(m+1);\n",
        "  money[0] = 0;\n",
        "  money[m] = 10000;\n",
        "  \n",
        "  for(int i = 1; i<money.size(); i++){\n",
        "    money[i] = 10000;\n",
        "    for(int j = 0; j<coins.size(); j++){\n",
        "      if(i >= coins[j]){\n",
        "        int moneyRest = money[i-coins[j]] + 1;\n",
        "        if(moneyRest<money[i]) money[i] = moneyRest;\n",
        "      }\n",
        "    }\n",
        "  }\n",
        "  return money[m];\n",
        "}\n",
        "\n",
        "int main() {\n",
        "  int m;\n",
        "  std::cin >> m;\n",
        "  std::cout << get_change(m) << '\\n';\n",
        "}"
      ]
    },
    {
      "cell_type": "code",
      "source": [
        "!g++ moneyCHagain.cpp && ./a.out"
      ],
      "metadata": {
        "colab": {
          "base_uri": "https://localhost:8080/"
        },
        "id": "YtK6DOmp_fUz",
        "outputId": "937aeccb-7391-479a-ed7b-e1d787c1e27e"
      },
      "execution_count": 6,
      "outputs": [
        {
          "output_type": "stream",
          "name": "stdout",
          "text": [
            "34\n",
            "9\n"
          ]
        }
      ]
    },
    {
      "cell_type": "markdown",
      "source": [
        "##**2. Primitive Calculator**"
      ],
      "metadata": {
        "id": "75g4F3xS_fn6"
      }
    },
    {
      "cell_type": "code",
      "source": [
        "%%writefile calculadora.cpp\n",
        "\n",
        "#include <iostream>\n",
        "#include <vector>\n",
        "#include <algorithm>\n",
        "#include <string>\n",
        "using std::vector;\n",
        "using std::string;\n",
        "using std::cout;\n",
        "vector<int> optimal_sequence(int n) {\n",
        "vector<vector<int> > sequence(n+1);\n",
        "std::vector<int> operations(3);\n",
        "operations[0] = 1;\n",
        "operations[1] = 2;\n",
        "operations[2] = 3;\n",
        "vector<int> aux(1);\n",
        "aux[0] = 1;\n",
        "sequence[1] = aux;\n",
        "  for(int i = 2; i<sequence.size(); i++){\n",
        "    int sumTotal = 0;\n",
        "    for(int j = 0; j<operations.size();j++){\n",
        "      if(operations[j] == 1){\n",
        "        sumTotal = sequence[i-1].size() + 1;\n",
        "        if(sequence[i].size() == 0 || sequence[i].size()>sumTotal){\n",
        "          sequence[i] = sequence[i-1];\n",
        "          sequence[i].push_back(sequence[i][sequence[i].size()-1]+1);\n",
        "        }\n",
        "      }\n",
        "      else{\n",
        "        \n",
        "        if(i%operations[j] == 0){\n",
        "          int pos = (int)(i/operations[j]);\n",
        "          sumTotal = sequence[pos].size() + 1;\n",
        "          if(sequence[i].size() == 0 || sequence[i].size()>sumTotal){\n",
        "            sequence[i] = sequence[pos];\n",
        "            sequence[i].push_back(sequence[i][sequence[i].size()-1]*operations[j]);\n",
        "          }\n",
        "        }\n",
        "      }\n",
        "      \n",
        "    }\n",
        "  }\n",
        "\n",
        "  return sequence[n];\n",
        "}\n",
        "\n",
        "int main() {\n",
        "  int n;\n",
        "  std::cin >> n;\n",
        "  vector<int> sequence = optimal_sequence(n);\n",
        "  std::cout << sequence.size() - 1 << std::endl;\n",
        "  for (size_t i = 0; i < sequence.size(); ++i) {\n",
        "    std::cout << sequence[i] << \" \";\n",
        "  }\n",
        "}"
      ],
      "metadata": {
        "colab": {
          "base_uri": "https://localhost:8080/"
        },
        "id": "w53mhRslGKDW",
        "outputId": "56eb8448-307e-4075-bcf8-5680e11aa032"
      },
      "execution_count": 7,
      "outputs": [
        {
          "output_type": "stream",
          "name": "stdout",
          "text": [
            "Writing calculadora.cpp\n"
          ]
        }
      ]
    },
    {
      "cell_type": "code",
      "source": [
        "!g++ calculadora.cpp && ./a.out"
      ],
      "metadata": {
        "colab": {
          "base_uri": "https://localhost:8080/"
        },
        "id": "S58DwxoSGKd6",
        "outputId": "ec850a03-b5a1-4866-e8f2-77226d2d78eb"
      },
      "execution_count": 10,
      "outputs": [
        {
          "output_type": "stream",
          "name": "stdout",
          "text": [
            "96234\n",
            "14\n",
            "1 3 9 10 11 33 99 297 891 2673 8019 16038 16039 48117 96234 "
          ]
        }
      ]
    },
    {
      "cell_type": "markdown",
      "source": [
        "##**3. Edit Distance** "
      ],
      "metadata": {
        "id": "01k5Jdm6HgyM"
      }
    },
    {
      "cell_type": "code",
      "source": [
        "%%writefile editdistance.cpp\n",
        "\n",
        "#include <iostream>\n",
        "#include <string>\n",
        "#include <vector>\n",
        "using std::string;\n",
        "using std::vector;\n",
        "using std::cout;\n",
        "int compareThree(int A, int B, int C){\n",
        "  if(A<B){\n",
        "    if(A<C){\n",
        "      return A;\n",
        "    }\n",
        "    else{\n",
        "      return C;\n",
        "    }\n",
        "  }\n",
        "  else{\n",
        "    if(B<C){\n",
        "      return B;\n",
        "    }\n",
        "    else{\n",
        "      return C;\n",
        "    }\n",
        "  }\n",
        "}\n",
        "int edit_distance(const string &A, const string &B) {\n",
        "  //write your code here\n",
        "  \n",
        "  vector<vector<int> > matrix(A.length()+1, vector<int>(B.length()+1));\n",
        "  for(int i = 0; i<A.length()+1; i++) matrix[i][0] = i;\n",
        "  for(int i = 0; i<B.length()+1; i++) matrix[0][i] = i;\n",
        "\n",
        "  \n",
        "  for(int i = 1; i<matrix.size(); i++){\n",
        "    for(int j = 1; j<matrix[0].size(); j++){\n",
        "      \n",
        "      int insertion = matrix[i][j-1] + 1;\n",
        "      int deletion =  matrix[i-1][j] + 1;\n",
        "      int mismatch = (A.at(i-1) == B.at(j-1))? matrix[i-1][j-1] + 0 : matrix[i-1][j-1] + 1;\n",
        "\n",
        "      matrix[i][j] = compareThree(insertion, deletion, mismatch);\n",
        "    }\n",
        "  }\n",
        "  return matrix[A.length()][B.length()];\n",
        "}\n",
        "\n",
        "int main() {\n",
        "  string str1;\n",
        "  string str2;\n",
        "  std::cin >> str1 >> str2;\n",
        "  std::cout << edit_distance(str1, str2) << std::endl;\n",
        "  return 0;\n",
        "}"
      ],
      "metadata": {
        "colab": {
          "base_uri": "https://localhost:8080/"
        },
        "id": "UMlDxAJuI3iR",
        "outputId": "260432a0-efd9-4efb-d5c3-953977648357"
      },
      "execution_count": 16,
      "outputs": [
        {
          "output_type": "stream",
          "name": "stdout",
          "text": [
            "Overwriting editdistance.cpp\n"
          ]
        }
      ]
    },
    {
      "cell_type": "code",
      "source": [
        "!g++ editdistance.cpp && ./a.out"
      ],
      "metadata": {
        "colab": {
          "base_uri": "https://localhost:8080/"
        },
        "id": "GDQWPJlFI33J",
        "outputId": "fe6f870c-015f-4d30-93d1-7559484cd4a2"
      },
      "execution_count": 17,
      "outputs": [
        {
          "output_type": "stream",
          "name": "stdout",
          "text": [
            "short ports\n",
            "3\n"
          ]
        }
      ]
    },
    {
      "cell_type": "markdown",
      "source": [
        "##**Screenshot submission**"
      ],
      "metadata": {
        "id": "ocUV9THXKzGr"
      }
    },
    {
      "cell_type": "markdown",
      "source": [
        "![scGianMorales]()"
      ],
      "metadata": {
        "id": "ixJMxY8yK2nM"
      }
    }
  ]
}