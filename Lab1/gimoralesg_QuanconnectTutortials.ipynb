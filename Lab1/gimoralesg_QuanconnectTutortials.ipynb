{
  "nbformat": 4,
  "nbformat_minor": 0,
  "metadata": {
    "colab": {
      "name": "gimoralesg_QuanconnectTutortials.ipynb",
      "provenance": [],
      "collapsed_sections": []
    },
    "kernelspec": {
      "name": "python3",
      "display_name": "Python 3"
    },
    "language_info": {
      "name": "python"
    }
  },
  "cells": [
    {
      "cell_type": "markdown",
      "metadata": {
        "id": "3DYOBbtR68T2"
      },
      "source": [
        "<h1><center>Quantconnect Introduction to Financial Python</center></h1>\n",
        "<h2><center>Gian Emanuel Morales Gonzalez</center></h2>\n",
        "\n",
        "\n",
        "\n"
      ]
    },
    {
      "cell_type": "markdown",
      "metadata": {
        "id": "MbTS0GUq_xzX"
      },
      "source": [
        "#**1. Data Types and Data Structures**\n",
        "\n",
        "## **Introduction**\n",
        "\n",
        "This tutorial provides a basic introduction to the Python programming language. If you are new to Python, you should run the code snippets while reading this tutorial. If you are an advanced Python user, please feel free to skip this chapter.\n",
        "\n",
        "## **Basic Variable Types**\n",
        "The basic types of variables in Python are: strings, integers, floating point numbers and booleans.\n",
        "\n",
        "Strings in python are identified as a contiguous set of characters represented in either single quotes (' ') or double quotes (\" \")."
      ]
    },
    {
      "cell_type": "code",
      "metadata": {
        "colab": {
          "base_uri": "https://localhost:8080/"
        },
        "id": "4I_81--5qj40",
        "outputId": "1dd99b14-5dd9-4caa-c948-95f6630429d5"
      },
      "source": [
        "#Ejemplo quantconnect\n",
        "my_string1 = 'Welcome to'\n",
        "my_string2 = \"QuantConnect\"\n",
        "print(my_string1 + ' ' + my_string2)"
      ],
      "execution_count": 1,
      "outputs": [
        {
          "output_type": "stream",
          "name": "stdout",
          "text": [
            "Welcome to QuantConnect\n"
          ]
        }
      ]
    },
    {
      "cell_type": "code",
      "metadata": {
        "colab": {
          "base_uri": "https://localhost:8080/"
        },
        "id": "6XNe98rBBTPH",
        "outputId": "f3394da3-6f79-4080-b1bf-f52afcfe943c"
      },
      "source": [
        "#ejemplo propio\n",
        "my_string1 = 'Gian: Este'\n",
        "my_string2 = \"es mi ejemplo :v\"\n",
        "print(my_string1 + ' ' + my_string2)"
      ],
      "execution_count": 3,
      "outputs": [
        {
          "output_type": "stream",
          "name": "stdout",
          "text": [
            "Gian: Este es mi ejemplo :v\n"
          ]
        }
      ]
    },
    {
      "cell_type": "markdown",
      "metadata": {
        "id": "V9dpMlrTCKUb"
      },
      "source": [
        "An integer is a round number with no values after the decimal point."
      ]
    },
    {
      "cell_type": "code",
      "metadata": {
        "colab": {
          "base_uri": "https://localhost:8080/"
        },
        "id": "PRMLG8csCYFL",
        "outputId": "209ff466-e27a-4f7d-87a6-79dacf130ca0"
      },
      "source": [
        "#Ejemplo quantconnect\n",
        "my_int = 10\n",
        "print(my_int)\n",
        "print(type(my_int))"
      ],
      "execution_count": 4,
      "outputs": [
        {
          "output_type": "stream",
          "name": "stdout",
          "text": [
            "10\n",
            "<class 'int'>\n"
          ]
        }
      ]
    },
    {
      "cell_type": "code",
      "metadata": {
        "colab": {
          "base_uri": "https://localhost:8080/"
        },
        "id": "o1zpzz9LCmGT",
        "outputId": "ab5db74c-b892-4cc8-ce25-ce6cab115345"
      },
      "source": [
        "#Ejemplo propio\n",
        "my_int = 2389\n",
        "print(my_int)\n",
        "print(type(my_int))"
      ],
      "execution_count": 5,
      "outputs": [
        {
          "output_type": "stream",
          "name": "stdout",
          "text": [
            "2389\n",
            "<class 'int'>\n"
          ]
        }
      ]
    },
    {
      "cell_type": "markdown",
      "metadata": {
        "id": "R_0X-5QmDJ8i"
      },
      "source": [
        "The built-in function int() can convert a string into an integer."
      ]
    },
    {
      "cell_type": "code",
      "metadata": {
        "colab": {
          "base_uri": "https://localhost:8080/"
        },
        "id": "HiG96R8TDNGa",
        "outputId": "5d4e4229-67ce-4b81-8faa-bc7c93ab7c64"
      },
      "source": [
        "#Ejemplo quantconnect\n",
        "my_string = \"100\"\n",
        "print(type(my_string))\n",
        "my_int = int(my_string)\n",
        "print(type(my_int))"
      ],
      "execution_count": 6,
      "outputs": [
        {
          "output_type": "stream",
          "name": "stdout",
          "text": [
            "<class 'str'>\n",
            "<class 'int'>\n"
          ]
        }
      ]
    },
    {
      "cell_type": "code",
      "metadata": {
        "colab": {
          "base_uri": "https://localhost:8080/"
        },
        "id": "RxvKgOUmDYZZ",
        "outputId": "c8ee24d1-60b9-4ea1-84e2-719e682bd80e"
      },
      "source": [
        "#Ejemplo propio\n",
        "my_string = \"102\"\n",
        "print(type(my_string))\n",
        "\n",
        "my_int = int(my_string)\n",
        "print(type(my_int))\n"
      ],
      "execution_count": 7,
      "outputs": [
        {
          "output_type": "stream",
          "name": "stdout",
          "text": [
            "<class 'str'>\n",
            "<class 'int'>\n"
          ]
        }
      ]
    },
    {
      "cell_type": "markdown",
      "metadata": {
        "id": "hzZbDbdxDnG3"
      },
      "source": [
        "A floating point number, or a float, is a real number in mathematics. In Python we need to include a value after a decimal point to define it as a float."
      ]
    },
    {
      "cell_type": "code",
      "metadata": {
        "colab": {
          "base_uri": "https://localhost:8080/"
        },
        "id": "BpGzxDB3DrB_",
        "outputId": "3d5118a6-c78a-4069-81b8-55f364dfcdc7"
      },
      "source": [
        "#Ejemplo quantconnect\n",
        "my_float = 1.0\n",
        "print(type(my_float))\n",
        "\n",
        "my_int = 1\n",
        "print(type(my_int))\n"
      ],
      "execution_count": 8,
      "outputs": [
        {
          "output_type": "stream",
          "name": "stdout",
          "text": [
            "<class 'float'>\n",
            "<class 'int'>\n"
          ]
        }
      ]
    },
    {
      "cell_type": "code",
      "metadata": {
        "colab": {
          "base_uri": "https://localhost:8080/"
        },
        "id": "3U4pAW24DzUe",
        "outputId": "2c546933-eb36-43ef-ad57-fe5905f4b314"
      },
      "source": [
        "#Ejemplo propio\n",
        "my_float = 4.487\n",
        "print(type(my_float))\n",
        "\n",
        "my_int = 4\n",
        "print(type(my_int))\n"
      ],
      "execution_count": 10,
      "outputs": [
        {
          "output_type": "stream",
          "name": "stdout",
          "text": [
            "<class 'float'>\n",
            "<class 'int'>\n"
          ]
        }
      ]
    },
    {
      "cell_type": "markdown",
      "metadata": {
        "id": "pEIgoXRIEReE"
      },
      "source": [
        "As you can see above, if we don't include a decimal value, the variable would be defined as an integer. The built-in function float() can convert a string or an integer into a float."
      ]
    },
    {
      "cell_type": "code",
      "metadata": {
        "colab": {
          "base_uri": "https://localhost:8080/"
        },
        "id": "jq-wx3pqEV0V",
        "outputId": "d5e86301-80ac-4b87-c3d1-ef9e6635314a"
      },
      "source": [
        "#Ejemplo quantconnect\n",
        "my_string = \"100\"\n",
        "my_float = float(my_string)\n",
        "print(type(my_float))\n"
      ],
      "execution_count": 11,
      "outputs": [
        {
          "output_type": "stream",
          "name": "stdout",
          "text": [
            "<class 'float'>\n"
          ]
        }
      ]
    },
    {
      "cell_type": "code",
      "metadata": {
        "colab": {
          "base_uri": "https://localhost:8080/"
        },
        "id": "fq7dc-nBEYLL",
        "outputId": "3e6ac8df-a08a-4fc2-bd78-db0522a6e21e"
      },
      "source": [
        "#Ejemplo propio\n",
        "my_string = \"8\"\n",
        "my_float = float(my_string)\n",
        "print(type(my_float))\n"
      ],
      "execution_count": 16,
      "outputs": [
        {
          "output_type": "stream",
          "name": "stdout",
          "text": [
            "<class 'float'>\n"
          ]
        }
      ]
    },
    {
      "cell_type": "markdown",
      "metadata": {
        "id": "u-n-SbZZE4ST"
      },
      "source": [
        "A boolean, or bool, is a binary variable. Its value can only be True or False. It is useful when we do some logic operations, which would be covered in our next chapter."
      ]
    },
    {
      "cell_type": "code",
      "metadata": {
        "colab": {
          "base_uri": "https://localhost:8080/"
        },
        "id": "p0nB-uu4E41q",
        "outputId": "cbe4688f-ebff-49f5-e1a6-f2051ebe21ad"
      },
      "source": [
        "#Ejemplo quantconnect\n",
        "my_bool = False\n",
        "print(my_bool)\n",
        "\n",
        "print(type(my_bool))\n"
      ],
      "execution_count": 18,
      "outputs": [
        {
          "output_type": "stream",
          "name": "stdout",
          "text": [
            "False\n",
            "<class 'bool'>\n"
          ]
        }
      ]
    },
    {
      "cell_type": "code",
      "metadata": {
        "colab": {
          "base_uri": "https://localhost:8080/"
        },
        "id": "atb7xIUAE6pC",
        "outputId": "e68d261c-94a4-40d2-dc9b-103fbf3cfcfb"
      },
      "source": [
        "#ejemplo propio\n",
        "my_bool = True\n",
        "print(my_bool)\n",
        "\n",
        "print(type(my_bool))\n"
      ],
      "execution_count": 20,
      "outputs": [
        {
          "output_type": "stream",
          "name": "stdout",
          "text": [
            "False\n",
            "<class 'bool'>\n"
          ]
        }
      ]
    },
    {
      "cell_type": "markdown",
      "metadata": {
        "id": "PgOIi_aVFWzh"
      },
      "source": [
        "## **Basic Math Operations**\n",
        "The basic math operators in python are demonstrated below:"
      ]
    },
    {
      "cell_type": "code",
      "metadata": {
        "id": "Px_X1fKMFo-n"
      },
      "source": [
        "#Ejemplo quantconnect\n",
        "print(\"Addition \", 1+1)\n",
        "print(\"Subtraction \", 5-2)\n",
        "print(\"Multiplication \", 2*3)\n",
        "print(\"Division\", 10/2)\n",
        "print(\"exponent\", 2**3)\n"
      ],
      "execution_count": null,
      "outputs": []
    },
    {
      "cell_type": "code",
      "metadata": {
        "colab": {
          "base_uri": "https://localhost:8080/"
        },
        "id": "hfKj3zkcFspX",
        "outputId": "a5020ea8-caa4-4f97-8a57-46682a56e180"
      },
      "source": [
        "#ejemplo propio\n",
        "print(\"Addition \", 752+8)\n",
        "print(\"Subtraction \", 55-200)\n",
        "print(\"Multiplication \", 42*43)\n",
        "print(\"Division\", 48/35)\n",
        "print(\"exponent\", 5**4)\n"
      ],
      "execution_count": 22,
      "outputs": [
        {
          "output_type": "stream",
          "name": "stdout",
          "text": [
            "Addition  760\n",
            "Subtraction  -145\n",
            "Multiplication  1806\n",
            "Division 1.3714285714285714\n",
            "exponent 625\n"
          ]
        }
      ]
    },
    {
      "cell_type": "markdown",
      "metadata": {
        "id": "X4yFzc1lGKrW"
      },
      "source": [
        "## **Data Collections**\n",
        "### **_List_**\n",
        "A list is an ordered collection of values. A list is mutable, which means you can change a list's value without changing the list itself. Creating a list is simply putting different comma-separated values between square brackets."
      ]
    },
    {
      "cell_type": "code",
      "metadata": {
        "colab": {
          "base_uri": "https://localhost:8080/"
        },
        "id": "MKx_PMfiGeiv",
        "outputId": "67e900cd-d219-4e05-aaa6-f95209d2aa61"
      },
      "source": [
        "#Ejemplo quantconnect\n",
        "my_list = ['Quant', 'Connect', 1,2,3]\n",
        "print(my_list)\n"
      ],
      "execution_count": 23,
      "outputs": [
        {
          "output_type": "stream",
          "name": "stdout",
          "text": [
            "['Quant', 'Connect', 1, 2, 3]\n"
          ]
        }
      ]
    },
    {
      "cell_type": "code",
      "metadata": {
        "colab": {
          "base_uri": "https://localhost:8080/"
        },
        "id": "yMsztjX9GfG2",
        "outputId": "2b6aa3d7-6645-4b2e-daa5-abfac5d0128f"
      },
      "source": [
        "#ejemplo propio\n",
        "my_list = ['Gian', 'Algoritmos', 2021,2,3.14]\n",
        "print(my_list)\n"
      ],
      "execution_count": 26,
      "outputs": [
        {
          "output_type": "stream",
          "name": "stdout",
          "text": [
            "['Gian', 'Algoritmos', 2021, 2, 3.14]\n"
          ]
        }
      ]
    },
    {
      "cell_type": "markdown",
      "metadata": {
        "id": "lQFuLU9GG5Lc"
      },
      "source": [
        "The values in a list are called \"elements\". We can access list elements by indexing. Python index starts from 0. So if you have a list of length n, the index of the first element will be 0, and that of the last element will be n − 1. By the way, the length of a list can be obtained by the built-in function len()."
      ]
    },
    {
      "cell_type": "code",
      "metadata": {
        "colab": {
          "base_uri": "https://localhost:8080/"
        },
        "id": "FkIJKzLkG7oV",
        "outputId": "cdf5505e-0181-4fb9-84ba-2f96d24eb48e"
      },
      "source": [
        "#Ejemplo quantconnet\n",
        "my_list = ['Quant', 'Connect', 1,2,3]\n",
        "print(len(my_list))\n",
        "\n",
        "print(my_list[0])\n",
        "\n",
        "print(my_list[len(my_list) - 1])\n"
      ],
      "execution_count": 27,
      "outputs": [
        {
          "output_type": "stream",
          "name": "stdout",
          "text": [
            "5\n",
            "Quant\n",
            "3\n"
          ]
        }
      ]
    },
    {
      "cell_type": "code",
      "metadata": {
        "colab": {
          "base_uri": "https://localhost:8080/"
        },
        "id": "h0jZfmUAG8SG",
        "outputId": "e7534086-cfb4-49c5-b74d-005bd56f70ad"
      },
      "source": [
        "#ejemplo propio\n",
        "my_list = ['Gian', 'Algoritmos', 2021,2,3.14,'UNAL',':)']\n",
        "print(len(my_list))\n",
        "\n",
        "print(my_list[1])\n",
        "\n",
        "print(my_list[len(my_list) - 3])\n"
      ],
      "execution_count": 28,
      "outputs": [
        {
          "output_type": "stream",
          "name": "stdout",
          "text": [
            "7\n",
            "Algoritmos\n",
            "3.14\n"
          ]
        }
      ]
    },
    {
      "cell_type": "markdown",
      "metadata": {
        "id": "Uv2M58beHr3p"
      },
      "source": [
        "You can also change the elements in the list by accessing an index and assigning a new value."
      ]
    },
    {
      "cell_type": "code",
      "metadata": {
        "colab": {
          "base_uri": "https://localhost:8080/"
        },
        "id": "XM2xiyfXHsnt",
        "outputId": "9f2b6a24-7163-43b5-e10b-54178000a1a8"
      },
      "source": [
        "#Ejemplo quantconnect\n",
        "my_list = ['Quant','Connect',1,2,3]\n",
        "my_list[2] = 'go'\n",
        "print(my_list)\n"
      ],
      "execution_count": 29,
      "outputs": [
        {
          "output_type": "stream",
          "name": "stdout",
          "text": [
            "['Quant', 'Connect', 'go', 2, 3]\n"
          ]
        }
      ]
    },
    {
      "cell_type": "code",
      "metadata": {
        "colab": {
          "base_uri": "https://localhost:8080/"
        },
        "id": "GF4eGUGFHwe4",
        "outputId": "50f29822-c647-4940-9c84-7a0f1b390142"
      },
      "source": [
        "#Ejemplo propio\n",
        "my_list = ['Gian', 'Algoritmos', 2021,2,3.14,'UNAL',':)']\n",
        "my_list[1] = 'Morales'\n",
        "my_list[6] = 2389\n",
        "print(my_list)\n"
      ],
      "execution_count": 44,
      "outputs": [
        {
          "output_type": "stream",
          "name": "stdout",
          "text": [
            "['Gian', 'Morales', 2021, 2, 3.14, 'UNAL', 2389]\n"
          ]
        }
      ]
    },
    {
      "cell_type": "markdown",
      "metadata": {
        "id": "E_fkMUZ-IPJZ"
      },
      "source": [
        "A list can also be sliced with a colon:"
      ]
    },
    {
      "cell_type": "code",
      "metadata": {
        "colab": {
          "base_uri": "https://localhost:8080/"
        },
        "id": "MQgQ8zwpIPzo",
        "outputId": "f1cec67b-3126-470c-840a-fd89c1761a9a"
      },
      "source": [
        "#Ejemplo quantconnect\n",
        "my_list = ['Quant','Connect',1,2,3]\n",
        "print(my_list[1:3])\n"
      ],
      "execution_count": 42,
      "outputs": [
        {
          "output_type": "stream",
          "name": "stdout",
          "text": [
            "['Connect', 1]\n"
          ]
        }
      ]
    },
    {
      "cell_type": "code",
      "metadata": {
        "colab": {
          "base_uri": "https://localhost:8080/"
        },
        "id": "8ZuEgzrxISk3",
        "outputId": "33de0b07-8ec4-4402-e8fa-c0482616b413"
      },
      "source": [
        "#Ejemplo propio\n",
        "my_list = ['Gian', 'Algoritmos', 2021,2,'inter exclu',':)']\n",
        "print(my_list[0:4])\n"
      ],
      "execution_count": 46,
      "outputs": [
        {
          "output_type": "stream",
          "name": "stdout",
          "text": [
            "['Gian', 'Algoritmos', 2021, 2]\n"
          ]
        }
      ]
    },
    {
      "cell_type": "markdown",
      "metadata": {
        "id": "RKbkgKw1Jkkz"
      },
      "source": [
        "The slice starts from the first element indicated, but excludes the last element indicated. Here we select all elements starting from index 1, which refers to the second element:"
      ]
    },
    {
      "cell_type": "code",
      "metadata": {
        "colab": {
          "base_uri": "https://localhost:8080/"
        },
        "id": "Sfn-9RQKJq-V",
        "outputId": "4e9d595b-4762-432a-9bf3-ed96e8fbf8b4"
      },
      "source": [
        "#Ejemplo quantconnect\n",
        "print(my_list[1:])\n"
      ],
      "execution_count": 41,
      "outputs": [
        {
          "output_type": "stream",
          "name": "stdout",
          "text": [
            "['Algoritmos', 2021, 2, 'inter exclu', ':)']\n"
          ]
        }
      ]
    },
    {
      "cell_type": "code",
      "metadata": {
        "colab": {
          "base_uri": "https://localhost:8080/"
        },
        "id": "5a-uqeGRKpco",
        "outputId": "d67d1bb1-2663-4641-b4cc-67a9b89304ff"
      },
      "source": [
        "#Ejemplo propio\n",
        "print(my_list[3:])"
      ],
      "execution_count": 40,
      "outputs": [
        {
          "output_type": "stream",
          "name": "stdout",
          "text": [
            "[2, 'inter exclu', ':)']\n"
          ]
        }
      ]
    },
    {
      "cell_type": "markdown",
      "metadata": {
        "id": "YqbaXdfmLGVe"
      },
      "source": [
        "And all elements up to but excluding index 3:"
      ]
    },
    {
      "cell_type": "code",
      "metadata": {
        "colab": {
          "base_uri": "https://localhost:8080/"
        },
        "id": "unH6MPW5LGzu",
        "outputId": "79f5d146-596e-4eef-e398-1ed052aa5be5"
      },
      "source": [
        "#Ejemplo quantconnect\n",
        "print(my_list[:3])"
      ],
      "execution_count": 47,
      "outputs": [
        {
          "output_type": "stream",
          "name": "stdout",
          "text": [
            "['Gian', 'Algoritmos', 2021]\n"
          ]
        }
      ]
    },
    {
      "cell_type": "code",
      "metadata": {
        "colab": {
          "base_uri": "https://localhost:8080/"
        },
        "id": "XP6Dx5BPLIIu",
        "outputId": "45f8b688-7151-43fd-ab91-0ff28512cd82"
      },
      "source": [
        "#ejemplo propio\n",
        "print(my_list[:2])"
      ],
      "execution_count": 48,
      "outputs": [
        {
          "output_type": "stream",
          "name": "stdout",
          "text": [
            "['Gian', 'Algoritmos']\n"
          ]
        }
      ]
    },
    {
      "cell_type": "markdown",
      "metadata": {
        "id": "G5o_41HXLxDs"
      },
      "source": [
        "If you wish to add or remove an element from a list, you can use the append() and remove() methods for lists as follows:"
      ]
    },
    {
      "cell_type": "code",
      "metadata": {
        "colab": {
          "base_uri": "https://localhost:8080/"
        },
        "id": "-QuvJvxXLxp0",
        "outputId": "07c8ab90-7fb2-4d04-a74d-3f7dbda3d542"
      },
      "source": [
        "#Ejemplo quantconnect\n",
        "my_list = ['Hello', 'Quant']\n",
        "my_list.append('Hello')\n",
        "print(my_list)\n",
        "\n",
        "my_list.remove('Hello')\n",
        "print(my_list)\n"
      ],
      "execution_count": 49,
      "outputs": [
        {
          "output_type": "stream",
          "name": "stdout",
          "text": [
            "['Hello', 'Quant', 'Hello']\n",
            "['Quant', 'Hello']\n"
          ]
        }
      ]
    },
    {
      "cell_type": "code",
      "metadata": {
        "colab": {
          "base_uri": "https://localhost:8080/"
        },
        "id": "OHb9M9CgL0OL",
        "outputId": "b1518373-7c9e-498d-a62f-a6eb31cb7ce1"
      },
      "source": [
        "#ejemplo propio\n",
        "my_list = ['Hola', 'Compañeros']\n",
        "my_list.append('Como')\n",
        "my_list.append('estan')\n",
        "print(my_list)\n",
        "\n",
        "my_list.remove('Compañeros')\n",
        "print(my_list)\n"
      ],
      "execution_count": 50,
      "outputs": [
        {
          "output_type": "stream",
          "name": "stdout",
          "text": [
            "['Hola', 'Compañeros', 'Como', 'estan']\n",
            "['Hola', 'Como', 'estan']\n"
          ]
        }
      ]
    },
    {
      "cell_type": "markdown",
      "metadata": {
        "id": "-6dhHu39MTDz"
      },
      "source": [
        "When there are repeated instances of \"Hello\", the first one is removed."
      ]
    },
    {
      "cell_type": "markdown",
      "metadata": {
        "id": "7u-GMNdeMdGB"
      },
      "source": [
        "### **_Tuple_**\n",
        "A tuple is a data structure type similar to a list. The difference is that a tuple is immutable, which means you can't change the elements in it once it's defined. We create a tuple by putting comma-separated values between parentheses."
      ]
    },
    {
      "cell_type": "code",
      "metadata": {
        "id": "J1AGLMntMt_s"
      },
      "source": [
        "#Ejemplo quantconnect\n",
        "my_tuple = ('Welcome','to','QuantConnect')"
      ],
      "execution_count": 51,
      "outputs": []
    },
    {
      "cell_type": "code",
      "metadata": {
        "id": "iUphLPtWMuXi"
      },
      "source": [
        "#Ejemplo propio\n",
        "my_tuple = ('Bienvenido','ª','Algoritmos')"
      ],
      "execution_count": 52,
      "outputs": []
    },
    {
      "cell_type": "markdown",
      "metadata": {
        "id": "CLc85JIgNmLw"
      },
      "source": [
        "Just like a list, a tuple can be sliced by using index."
      ]
    },
    {
      "cell_type": "code",
      "metadata": {
        "colab": {
          "base_uri": "https://localhost:8080/"
        },
        "id": "d5TmnSEpNqti",
        "outputId": "3a98a7b0-13c2-4756-e3d2-4052490a8472"
      },
      "source": [
        "#Ejemplo quantconnect\n",
        "my_tuple = ('Welcome','to','QuantConnect')\n",
        "print(my_tuple[1:])"
      ],
      "execution_count": 53,
      "outputs": [
        {
          "output_type": "stream",
          "name": "stdout",
          "text": [
            "('to', 'QuantConnect')\n"
          ]
        }
      ]
    },
    {
      "cell_type": "code",
      "metadata": {
        "colab": {
          "base_uri": "https://localhost:8080/"
        },
        "id": "gs3a4M4pNrK9",
        "outputId": "f7cb65f5-7ce0-43f2-ad13-0e0c34b2ffbc"
      },
      "source": [
        "#Ejemplo propio\n",
        "my_tuple = ('Bienvenido','ª','Algoritmos')\n",
        "print(my_tuple[1:])"
      ],
      "execution_count": 54,
      "outputs": [
        {
          "output_type": "stream",
          "name": "stdout",
          "text": [
            "('ª', 'Algoritmos')\n"
          ]
        }
      ]
    },
    {
      "cell_type": "markdown",
      "metadata": {
        "id": "NlkaMUbZN6--"
      },
      "source": [
        "### **_Set_**\n",
        "A set is an **_unordered_** collection with **_no duplicate_** elements. The built-in function set() can be used to create sets."
      ]
    },
    {
      "cell_type": "code",
      "metadata": {
        "colab": {
          "base_uri": "https://localhost:8080/"
        },
        "id": "NRXhPdanOSxp",
        "outputId": "cdfa4c76-08c5-4732-c14d-b01b273c43f8"
      },
      "source": [
        "#Ejemplo quantconnect\n",
        "stock_list = ['AAPL','GOOG','IBM','AAPL','IBM','FB','F','GOOG']\n",
        "stock_set = set(stock_list)\n",
        "print(stock_set)"
      ],
      "execution_count": 55,
      "outputs": [
        {
          "output_type": "stream",
          "name": "stdout",
          "text": [
            "{'FB', 'F', 'GOOG', 'AAPL', 'IBM'}\n"
          ]
        }
      ]
    },
    {
      "cell_type": "code",
      "metadata": {
        "colab": {
          "base_uri": "https://localhost:8080/"
        },
        "id": "d77N4LVkOUGz",
        "outputId": "4193bea6-a488-457f-f38a-6a5d9d6549c0"
      },
      "source": [
        "#Ejemplo propio\n",
        "stock_list = ['Algoritmos','UNAL','Gian','Morales','UNAL','Algoritmos','F','GOOG']\n",
        "stock_set = set(stock_list)\n",
        "print(stock_set)"
      ],
      "execution_count": 56,
      "outputs": [
        {
          "output_type": "stream",
          "name": "stdout",
          "text": [
            "{'Algoritmos', 'Gian', 'F', 'GOOG', 'UNAL', 'Morales'}\n"
          ]
        }
      ]
    },
    {
      "cell_type": "markdown",
      "metadata": {
        "id": "uIiiNsUlO01a"
      },
      "source": [
        "***Set is an easy way to remove duplicate elements from a list.***"
      ]
    },
    {
      "cell_type": "markdown",
      "metadata": {
        "id": "IHpsRT1OO5Tw"
      },
      "source": [
        "### **_Dictionary_**\n",
        "A dictionary is one of the most important data structures in Python. Unlike sequences which are indexed by integers, dictionaries are indexed by keys which can be either strings or floats.\n",
        "\n",
        "A dictionary is an **_unordered_** collection of key : value pairs, with the requirement that the keys are unique. We create a dictionary by placing a comma-separated list of key : value pairs within the braces."
      ]
    },
    {
      "cell_type": "code",
      "metadata": {
        "id": "vkFHMg-dPYDC"
      },
      "source": [
        "#Ejemplo quantconnect\n",
        "my_dic_q = {'AAPL': 'Apple', 'FB': 'FaceBook', 'GOOG': 'Alphabet'}"
      ],
      "execution_count": 60,
      "outputs": []
    },
    {
      "cell_type": "code",
      "metadata": {
        "id": "bd0q9kjLPa8f"
      },
      "source": [
        "#Ejemplo propio\n",
        "my_dic_p = {'ALG':'Algoritmos', 'GEMG':'Gian', '3165000':'UNAL'}"
      ],
      "execution_count": 64,
      "outputs": []
    },
    {
      "cell_type": "markdown",
      "metadata": {
        "id": "wueOBkG0P5XA"
      },
      "source": [
        "After defining a dictionary, we can access any value by indicating its key in brackets.\n"
      ]
    },
    {
      "cell_type": "code",
      "metadata": {
        "colab": {
          "base_uri": "https://localhost:8080/"
        },
        "id": "jbaM8w-oP7cR",
        "outputId": "d83272a6-d270-4163-fbac-10b9dc47bdcb"
      },
      "source": [
        "#Ejemplo quantconnect\n",
        "print(my_dic_q['GOOG'])"
      ],
      "execution_count": 62,
      "outputs": [
        {
          "output_type": "stream",
          "name": "stdout",
          "text": [
            "Alphabet\n"
          ]
        }
      ]
    },
    {
      "cell_type": "code",
      "metadata": {
        "colab": {
          "base_uri": "https://localhost:8080/"
        },
        "id": "e0ZXRDEqP8o2",
        "outputId": "429ce617-2994-40de-b07f-a8f7763f69a2"
      },
      "source": [
        "#Ejemplo propio\n",
        "print(my_dic_p['3165000'])"
      ],
      "execution_count": 65,
      "outputs": [
        {
          "output_type": "stream",
          "name": "stdout",
          "text": [
            "UNAL\n"
          ]
        }
      ]
    },
    {
      "cell_type": "markdown",
      "metadata": {
        "id": "VCv3qVD_Qj4G"
      },
      "source": [
        "We can also change the value associated with a specified key:"
      ]
    },
    {
      "cell_type": "code",
      "metadata": {
        "colab": {
          "base_uri": "https://localhost:8080/"
        },
        "id": "qGt2OikVQnAI",
        "outputId": "9d602933-ca00-4373-8c0b-85f111a3821a"
      },
      "source": [
        "#Ejemplo quantconnect\n",
        "my_dic_q['GOOG'] = 'Alphabet Company'\n",
        "print(my_dic_q['GOOG'])"
      ],
      "execution_count": 69,
      "outputs": [
        {
          "output_type": "stream",
          "name": "stdout",
          "text": [
            "Alphabet Company\n"
          ]
        }
      ]
    },
    {
      "cell_type": "code",
      "metadata": {
        "colab": {
          "base_uri": "https://localhost:8080/"
        },
        "id": "t6lDd6ZsQnfs",
        "outputId": "d0812681-46e7-4754-bfe0-5d4caa32cfac"
      },
      "source": [
        "#Ejemplo propio\n",
        "my_dic_p['ALG'] = 'unalAlgoritmos'\n",
        "print(my_dic_p['ALG'])"
      ],
      "execution_count": 70,
      "outputs": [
        {
          "output_type": "stream",
          "name": "stdout",
          "text": [
            "unalAlgoritmos\n"
          ]
        }
      ]
    },
    {
      "cell_type": "markdown",
      "metadata": {
        "id": "rqdRpu7bQ9Rf"
      },
      "source": [
        "The built-in method of the dictionary object dict.keys() returns a list of all the keys used in the dictionary."
      ]
    },
    {
      "cell_type": "code",
      "metadata": {
        "colab": {
          "base_uri": "https://localhost:8080/"
        },
        "id": "_9IeuiQURA7t",
        "outputId": "d178ace9-98f3-4b2f-a8ae-77273d9ec99f"
      },
      "source": [
        "#Ejemplo quantconnect\n",
        "print(my_dic_q.keys())"
      ],
      "execution_count": 71,
      "outputs": [
        {
          "output_type": "stream",
          "name": "stdout",
          "text": [
            "dict_keys(['AAPL', 'FB', 'GOOG'])\n"
          ]
        }
      ]
    },
    {
      "cell_type": "code",
      "metadata": {
        "colab": {
          "base_uri": "https://localhost:8080/"
        },
        "id": "gNQ4cLJmRBnh",
        "outputId": "5ea63719-1cd4-409c-9c1a-2048899782f3"
      },
      "source": [
        "#Ejemplo propio\n",
        "print(my_dic_p.keys())"
      ],
      "execution_count": 72,
      "outputs": [
        {
          "output_type": "stream",
          "name": "stdout",
          "text": [
            "dict_keys(['ALG', 'GEMG', '3165000'])\n"
          ]
        }
      ]
    },
    {
      "cell_type": "markdown",
      "metadata": {
        "id": "y80DeAhCRSM5"
      },
      "source": [
        "## **Common String Operations** ##\n",
        "A string is an immutable sequence of characters. It can be sliced by index just like a tuple:"
      ]
    },
    {
      "cell_type": "code",
      "metadata": {
        "colab": {
          "base_uri": "https://localhost:8080/"
        },
        "id": "cpjPVXsnRc13",
        "outputId": "03c7dfc6-2fbc-4147-97ee-6de5c31524f9"
      },
      "source": [
        "#Ejemplo quantconnect\n",
        "my_str = 'Welcome to QuantConnect'\n",
        "print(my_str[8:])"
      ],
      "execution_count": 74,
      "outputs": [
        {
          "output_type": "stream",
          "name": "stdout",
          "text": [
            "to QuantConnect\n"
          ]
        }
      ]
    },
    {
      "cell_type": "code",
      "metadata": {
        "colab": {
          "base_uri": "https://localhost:8080/"
        },
        "id": "SBzuXiO3RdoL",
        "outputId": "3b3ff14a-1ed2-456a-e216-d6f70756922a"
      },
      "source": [
        "#Ejemplo propio\n",
        "my_str = 'UNAL Algoritmos 2021'\n",
        "print(my_str[4:])"
      ],
      "execution_count": 81,
      "outputs": [
        {
          "output_type": "stream",
          "name": "stdout",
          "text": [
            " Algoritmos 2021\n"
          ]
        }
      ]
    },
    {
      "cell_type": "markdown",
      "metadata": {
        "id": "hPLs3NFJSrKt"
      },
      "source": [
        "There are many methods associated with strings. We can use **_string.count()_** to count the occurrences of a character in a string, use **_string.find()_** to return the index of a specific character, and use **_string.replace()_** to replace characters."
      ]
    },
    {
      "cell_type": "code",
      "metadata": {
        "colab": {
          "base_uri": "https://localhost:8080/"
        },
        "id": "DSBr1jkbTAg6",
        "outputId": "1ea5100f-7bf5-4e50-ace8-d8b9d24177ea"
      },
      "source": [
        "#Ejemplo quantconnect\n",
        "print(\"Counting the number of e's in this sentence\".count('e'))\n",
        "\n",
        "print('The first time e appears in this sentence'.find('e'))\n",
        "\n",
        "print('all the a in this sentence now becomes e'.replace('a','e'))\n"
      ],
      "execution_count": 82,
      "outputs": [
        {
          "output_type": "stream",
          "name": "stdout",
          "text": [
            "6\n",
            "2\n",
            "ell the e in this sentence now becomes e\n"
          ]
        }
      ]
    },
    {
      "cell_type": "code",
      "metadata": {
        "colab": {
          "base_uri": "https://localhost:8080/"
        },
        "id": "0IVQ1_x1TDG8",
        "outputId": "51eac4ce-9902-4a48-873c-c76c3f44f122"
      },
      "source": [
        "#ejemplo propio\n",
        "print(\"Pedro Perez Pereira pobre pintor portugues\".count('p'))\n",
        "\n",
        "print('pinta Preciosos paisaje '.find('P'))\n",
        "\n",
        "print('Para poder partir para Paris'.replace('p','l'))\n"
      ],
      "execution_count": 85,
      "outputs": [
        {
          "output_type": "stream",
          "name": "stdout",
          "text": [
            "3\n",
            "6\n",
            "Para loder lartir lara Paris\n"
          ]
        }
      ]
    },
    {
      "cell_type": "markdown",
      "metadata": {
        "id": "Dm-Ca39WUrLD"
      },
      "source": [
        "The most commonly used method for strings is **_string.split()_**. This method will split the string by the indicated character and return a list:"
      ]
    },
    {
      "cell_type": "code",
      "metadata": {
        "colab": {
          "base_uri": "https://localhost:8080/"
        },
        "id": "wtOn3oKbUwHQ",
        "outputId": "ffa4e80d-9814-4e8e-8075-c69737889405"
      },
      "source": [
        "#Ejemplo quantconnect \n",
        "Time = '2016-04-01 09:43:00'\n",
        "splited_list = Time.split(' ')\n",
        "date = splited_list[0]\n",
        "time = splited_list[1]\n",
        "print(date, time)\n",
        "\n",
        "hour = time.split(':')[0]\n",
        "print(hour)\n"
      ],
      "execution_count": 93,
      "outputs": [
        {
          "output_type": "stream",
          "name": "stdout",
          "text": [
            "2016-04-01 09:43:00\n",
            "09\n"
          ]
        }
      ]
    },
    {
      "cell_type": "code",
      "metadata": {
        "colab": {
          "base_uri": "https://localhost:8080/"
        },
        "id": "HHAqqcUQUwpX",
        "outputId": "a651a3fd-a409-4306-d526-67e072b0b6b0"
      },
      "source": [
        "#ejemplo propio\n",
        "Time = '2016-12-25 09:43:00'\n",
        "splited_list = Time.split(' ')\n",
        "date = splited_list[0]\n",
        "time = splited_list[1]\n",
        "print(date, time)\n",
        "\n",
        "minute = time.split(':')[1]\n",
        "mes = date.split('-')[1]\n",
        "dia = date.split('-')[2]\n",
        "print(minute, mes, dia)\n"
      ],
      "execution_count": 92,
      "outputs": [
        {
          "output_type": "stream",
          "name": "stdout",
          "text": [
            "2016-12-25 09:43:00\n",
            "43 12 25\n"
          ]
        }
      ]
    },
    {
      "cell_type": "markdown",
      "metadata": {
        "id": "8tdXf-E2Wb-a"
      },
      "source": [
        "We can replace parts of a string by our variable. This is called string formatting."
      ]
    },
    {
      "cell_type": "code",
      "metadata": {
        "colab": {
          "base_uri": "https://localhost:8080/"
        },
        "id": "fbJYxejHWddC",
        "outputId": "668b47fb-b40b-4bab-8bb9-520d56864308"
      },
      "source": [
        "#Ejemplo quantconnect\n",
        "my_time = 'Hour: {}, Minute: {}'.format(9, 43)\n",
        "print(my_time)"
      ],
      "execution_count": 94,
      "outputs": [
        {
          "output_type": "stream",
          "name": "stdout",
          "text": [
            "Hour: 9, Minute: 43\n"
          ]
        }
      ]
    },
    {
      "cell_type": "code",
      "metadata": {
        "colab": {
          "base_uri": "https://localhost:8080/"
        },
        "id": "mq9Q6e69Wd20",
        "outputId": "220e4fba-e058-4a72-b516-f0e54f349d6f"
      },
      "source": [
        "#ejemplo propio\n",
        "my_date = 'year: {}, mes: {}, dia: {}'.format(2021, 'oct', 16)\n",
        "print(my_date)"
      ],
      "execution_count": 96,
      "outputs": [
        {
          "output_type": "stream",
          "name": "stdout",
          "text": [
            "year: 2021, mes: oct, dia: 16\n"
          ]
        }
      ]
    },
    {
      "cell_type": "markdown",
      "metadata": {
        "id": "EWi8jX2cXMhv"
      },
      "source": [
        "Another way to format a string is to use the % symbol."
      ]
    },
    {
      "cell_type": "code",
      "metadata": {
        "colab": {
          "base_uri": "https://localhost:8080/"
        },
        "id": "BWWoC6H8XOUV",
        "outputId": "3fd220cd-9fae-4f26-f934-e3d11edb347b"
      },
      "source": [
        "#Ejemplo quantconnect\n",
        "print('pi is %f' % 3.14)\n",
        "\n",
        "print('%s to %s' % ('Welcome', 'QuantConnect'))\n"
      ],
      "execution_count": 99,
      "outputs": [
        {
          "output_type": "stream",
          "name": "stdout",
          "text": [
            "pi is 3.140000\n",
            "Welcome to QuantConnect\n"
          ]
        }
      ]
    },
    {
      "cell_type": "code",
      "metadata": {
        "colab": {
          "base_uri": "https://localhost:8080/"
        },
        "id": "ng3UK6m0XOug",
        "outputId": "cd0ce604-61cd-45b7-d21d-6d5f7aba8e4d"
      },
      "source": [
        "#ejemplo propio\n",
        "print('la suma de e y pi es %f' % 5.8598)\n",
        "\n",
        "print('%s a la clase de %s' % ('Bienvenido', 'Algoritmos'))\n"
      ],
      "execution_count": 105,
      "outputs": [
        {
          "output_type": "stream",
          "name": "stdout",
          "text": [
            "la suma de e y pi es 5.859800\n",
            "Bienvenido a la clase de Algoritmos\n"
          ]
        }
      ]
    },
    {
      "cell_type": "markdown",
      "metadata": {
        "id": "Jc8mEb1La2m8"
      },
      "source": [
        "%s is a placeholder that takes in a string. Similarly %f takes a float and %d takes an integer."
      ]
    },
    {
      "cell_type": "markdown",
      "metadata": {
        "id": "pV5KtYQya350"
      },
      "source": [
        "### **Summary**\n",
        "We have seen the basic data types and data structures in Python. It's important to keep practicing to become familiar with these data structures. In the next tutorial, we will cover for and while loops and logical operations in Python."
      ]
    },
    {
      "cell_type": "markdown",
      "metadata": {
        "id": "PnsRLgEpbHjS"
      },
      "source": [
        "#**2. Logical Operations and Loops**\n",
        "## **Introduction**\n",
        "We discussed the basic data types and data structures in Python in the last tutorial. This chapter covers logical operations and loops in Python, which are very common in programming.\n",
        "\n",
        "## **Logical Operations**\n",
        "Like most programming languages, Python has comparison operators:"
      ]
    },
    {
      "cell_type": "code",
      "metadata": {
        "colab": {
          "base_uri": "https://localhost:8080/"
        },
        "id": "11Ft-tDHbY7h",
        "outputId": "17aceb54-15d2-41a4-8746-79e9e4fcdc2f"
      },
      "source": [
        "#Ejemplo quantconnect\n",
        "print(1 == 0)    # 1 equals 0\n",
        "print(1 == 1)    # 1 equals 1\n",
        "print(1 != 0)   # 1 is not equal to 0\n",
        "print(5 >= 5)    # 5 is greater than or equal to 5\n",
        "print(5 >= 6)    # 5 is greater than or equal to 6\n"
      ],
      "execution_count": 107,
      "outputs": [
        {
          "output_type": "stream",
          "name": "stdout",
          "text": [
            "False\n",
            "True\n",
            "True\n",
            "True\n",
            "False\n"
          ]
        }
      ]
    },
    {
      "cell_type": "code",
      "metadata": {
        "colab": {
          "base_uri": "https://localhost:8080/"
        },
        "id": "U4ptYDZ7cNnN",
        "outputId": "b6c51494-9544-4cd3-d852-d2ef7140c499"
      },
      "source": [
        "#ejemplo propio\n",
        "print(1 == 1)    \n",
        "print(\"d\" == \"s\") \n",
        "print(1 != 0)    \n",
        "print(8 >= 1)    \n",
        "print('s' < 'a')   "
      ],
      "execution_count": 108,
      "outputs": [
        {
          "output_type": "stream",
          "name": "stdout",
          "text": [
            "True\n",
            "False\n",
            "True\n",
            "True\n",
            "True\n"
          ]
        }
      ]
    },
    {
      "cell_type": "markdown",
      "metadata": {
        "id": "Bl3ZOYuNdF3_"
      },
      "source": [
        "Each statement above has a boolean value, which must be either True or False, but not both.\n",
        "\n",
        "We can combine simple statements P and Q to form complex statements using logical operators:\n",
        "\n",
        "* The statement **\"P and Q\"** is true if both P and Q are true, otherwise it is false.\n",
        "* The statement **\"P or Q\"** is false if both P and Q are false, otherwise it is true.\n",
        "* The statement **\"not P\"** is true if P is false, and vice versa."
      ]
    },
    {
      "cell_type": "code",
      "metadata": {
        "colab": {
          "base_uri": "https://localhost:8080/"
        },
        "id": "ZmFkoB10dcP2",
        "outputId": "297e9653-40b9-44a0-bff5-ab4f63018c2a"
      },
      "source": [
        "#Ejemplo quantconnect\n",
        "print(2 > 1 and 3 > 2)\n",
        "print(2 > 1 and 3 < 2)\n",
        "print(2 > 1 or  3 < 2)\n",
        "print(2 < 1 and 3 < 2)"
      ],
      "execution_count": 110,
      "outputs": [
        {
          "output_type": "stream",
          "name": "stdout",
          "text": [
            "True\n",
            "True\n",
            "True\n",
            "False\n"
          ]
        }
      ]
    },
    {
      "cell_type": "code",
      "metadata": {
        "colab": {
          "base_uri": "https://localhost:8080/"
        },
        "id": "3XJUJY8AdfZa",
        "outputId": "bf18cffb-3b90-4f3c-bf58-bed9e6cd6794"
      },
      "source": [
        "#ejemplo propio\n",
        "print('a' > 'A' and 8 > 7)\n",
        "print(52 >= 52 and 45 < 68)\n",
        "print(554 <= 74 or  'M' < 'v')\n",
        "print(3.54 < 3.55 and 1 < 7)"
      ],
      "execution_count": 117,
      "outputs": [
        {
          "output_type": "stream",
          "name": "stdout",
          "text": [
            "True\n",
            "True\n",
            "True\n",
            "True\n"
          ]
        }
      ]
    },
    {
      "cell_type": "markdown",
      "metadata": {
        "id": "YgquJYvPe-7m"
      },
      "source": [
        "When dealing with a very complex logical statement that involves in several statements, we can use brackets to separate and combine them.\n",
        "\n"
      ]
    },
    {
      "cell_type": "code",
      "metadata": {
        "colab": {
          "base_uri": "https://localhost:8080/"
        },
        "id": "DlyLqVdbfAp_",
        "outputId": "49283c2a-9edc-44eb-a91a-386e6a8b39f8"
      },
      "source": [
        "#Ejemplo quantconnect\n",
        "print((3 > 2 or 1 < 3) and (1!=3 and 4>3) and not (3 < 2 or 1 < 3 and (1!=3 and 4>3)))\n",
        "print(3 > 2 or 1 < 3 and (1!=3 and 4>3) and not (3 < 2 or 1 < 3 and (1!=3 and 4>3)))\n"
      ],
      "execution_count": 127,
      "outputs": [
        {
          "output_type": "stream",
          "name": "stdout",
          "text": [
            "False\n",
            "True\n"
          ]
        }
      ]
    },
    {
      "cell_type": "code",
      "metadata": {
        "colab": {
          "base_uri": "https://localhost:8080/"
        },
        "id": "Vf1FdzSKfEGe",
        "outputId": "9e17b41d-8ea0-478c-c924-63ac09b813a9"
      },
      "source": [
        "#ejemplo propio\n",
        "print(9 > 2 or (1 < 3 and 1!=3 and 4>3) and not (3 < 2 or 1 < 3 and (1!=3 and 4>3)))\n",
        "print(3 > 2 or 1 < 3 and (1!=3 and 4>3 and not (5 < 5 or 1 < 3) and 3!=3) and 4>3)\n"
      ],
      "execution_count": 130,
      "outputs": [
        {
          "output_type": "stream",
          "name": "stdout",
          "text": [
            "True\n",
            "True\n"
          ]
        }
      ]
    },
    {
      "cell_type": "markdown",
      "metadata": {
        "id": "rYW5f0ZuvjIP"
      },
      "source": [
        "Comparing the above two statements, we can see that it's wise to use brackets when we make a complex logical statement."
      ]
    },
    {
      "cell_type": "markdown",
      "metadata": {
        "id": "vUdOZCz9vovg"
      },
      "source": [
        "## **If Statement**\n",
        "An if statement executes a segment of code only if its condition is true. A standard if statement consists of 3 segments: if, elif and else.\n",
        "\n",
        "\n",
        "```\n",
        "if condition1:\n",
        "    # if condition1 is true, execute the code here\n",
        "    # and ignore the rest of this if statement\n",
        "elif condition2:\n",
        "    # if condition1 is false, and condition2 is true, execute the code here\n",
        "    # and ignore the rest of this if statement\n",
        "else:\n",
        "    # if none of the above conditions is True, execute the code here\n",
        "```\n",
        "An if statement doesn't necessarily has elif and else part. If it's not specified, the indented block of code will be executed when the condition is true, otherwise the whole if statement will be skipped.\n"
      ]
    },
    {
      "cell_type": "code",
      "metadata": {
        "colab": {
          "base_uri": "https://localhost:8080/"
        },
        "id": "tHkWDf_Gvv2N",
        "outputId": "b38a7090-80c6-4461-8a3e-05ff8dc08e30"
      },
      "source": [
        "#Ejemplo quantconnect\n",
        "i = 0\n",
        "if i == 0: print('i == 0 is True')\n"
      ],
      "execution_count": 132,
      "outputs": [
        {
          "output_type": "stream",
          "name": "stdout",
          "text": [
            "i == 0 is True\n"
          ]
        }
      ]
    },
    {
      "cell_type": "code",
      "metadata": {
        "colab": {
          "base_uri": "https://localhost:8080/"
        },
        "id": "x7XI0kNoYJD8",
        "outputId": "675c378a-5e2b-4001-baa1-ef62ff98fe60"
      },
      "source": [
        "#ejemplo propio\n",
        "i = 'truth'\n",
        "if i == 'truth': print('i es verdad')\n"
      ],
      "execution_count": 134,
      "outputs": [
        {
          "output_type": "stream",
          "name": "stdout",
          "text": [
            "i es verdad\n"
          ]
        }
      ]
    },
    {
      "cell_type": "markdown",
      "metadata": {
        "id": "fs8uYOmPYf0T"
      },
      "source": [
        "As we mentioned above, we can write some complex statements here:\n",
        "\n"
      ]
    },
    {
      "cell_type": "code",
      "metadata": {
        "colab": {
          "base_uri": "https://localhost:8080/"
        },
        "id": "JWCX6a6qYn7M",
        "outputId": "c20d19bd-31c3-4537-f238-10e474ec59ad"
      },
      "source": [
        "#Ejemplo quantconnect\n",
        "p = 1 > 0\n",
        "q = 2 > 3\n",
        "if p and q:\n",
        "    print('p and q is true')\n",
        "elif p and not q:\n",
        "    print('q is false')\n",
        "elif q and not p:\n",
        "    print('p is false')\n",
        "else:\n",
        "    print('None of p and q is true')"
      ],
      "execution_count": 135,
      "outputs": [
        {
          "output_type": "stream",
          "name": "stdout",
          "text": [
            "q is false\n"
          ]
        }
      ]
    },
    {
      "cell_type": "code",
      "metadata": {
        "colab": {
          "base_uri": "https://localhost:8080/"
        },
        "id": "j9vS7vl7Y08p",
        "outputId": "40ac35f7-6db7-4457-8b13-4f7553efcede"
      },
      "source": [
        "#ejemplo propio\n",
        "p = 8 > 8\n",
        "q = 1 >= 3\n",
        "if p and q:\n",
        "    print('p and q is true')\n",
        "elif p and not q:\n",
        "    print('q is false')\n",
        "elif q and not p:\n",
        "    print('p is false')\n",
        "else:\n",
        "    print('None of p and q is true')"
      ],
      "execution_count": 137,
      "outputs": [
        {
          "output_type": "stream",
          "name": "stdout",
          "text": [
            "None of p and q is true\n"
          ]
        }
      ]
    },
    {
      "cell_type": "markdown",
      "metadata": {
        "id": "EyLWrGnFZMT2"
      },
      "source": [
        "## **Loop Structure**\n",
        "Loops are an essential part of programming. The \"for\" and \"while\" loops run a block of code repeatedly.\n",
        "\n",
        "### **_While Loop_**\n",
        "A \"while\" loop will run repeatedly until a certain condition has been met."
      ]
    },
    {
      "cell_type": "code",
      "metadata": {
        "colab": {
          "base_uri": "https://localhost:8080/"
        },
        "id": "hq61HLJKZVuA",
        "outputId": "c999f0ab-6d43-4e01-d7b2-d12268ff2836"
      },
      "source": [
        "#Ejemplo quantconnect\n",
        "i = 0\n",
        "while i < 5:\n",
        "    print(i)\n",
        "    i += 1"
      ],
      "execution_count": 139,
      "outputs": [
        {
          "output_type": "stream",
          "name": "stdout",
          "text": [
            "0\n",
            "1\n",
            "2\n",
            "3\n",
            "4\n"
          ]
        }
      ]
    },
    {
      "cell_type": "code",
      "metadata": {
        "colab": {
          "base_uri": "https://localhost:8080/"
        },
        "id": "nkXV_n2rZW-l",
        "outputId": "ec4e107b-38cd-448a-e269-6678e6bb1707"
      },
      "source": [
        "#Ejemplo propio\n",
        "i = 5\n",
        "while i >= 0:\n",
        "    print(i)\n",
        "    i -= 1"
      ],
      "execution_count": 141,
      "outputs": [
        {
          "output_type": "stream",
          "name": "stdout",
          "text": [
            "5\n",
            "4\n",
            "3\n",
            "2\n",
            "1\n",
            "0\n"
          ]
        }
      ]
    },
    {
      "cell_type": "markdown",
      "metadata": {
        "id": "vObH8TYPZwqQ"
      },
      "source": [
        "When making a while loop, we need to ensure that something changes from iteration to iteration so that the while loop will terminate, otherwise, it will run forever. Here we used i += 1 (short for i = i + 1) to make i larger after each iteration. This is the most commonly used method to control a while loop.\n",
        "\n",
        "### **_For Loop_**\n",
        "A \"for\" loop will iterate over a sequence of value and terminate when the sequence has ended."
      ]
    },
    {
      "cell_type": "code",
      "metadata": {
        "colab": {
          "base_uri": "https://localhost:8080/"
        },
        "id": "VLS3Oe-WZ8FA",
        "outputId": "380369a1-3c48-41b4-bf3b-60879da69cec"
      },
      "source": [
        "#Ejemplo quantconnect\n",
        "for x in [1,2,3,4,5]: print(x)"
      ],
      "execution_count": 142,
      "outputs": [
        {
          "output_type": "stream",
          "name": "stdout",
          "text": [
            "1\n",
            "2\n",
            "3\n",
            "4\n",
            "5\n"
          ]
        }
      ]
    },
    {
      "cell_type": "code",
      "metadata": {
        "colab": {
          "base_uri": "https://localhost:8080/"
        },
        "id": "FCKEw34nZ-VN",
        "outputId": "008531b4-93ef-4a56-e3e2-d25e2c15c779"
      },
      "source": [
        "#Ejemplo propio\n",
        "for x in range(6): print(x)"
      ],
      "execution_count": 152,
      "outputs": [
        {
          "output_type": "stream",
          "name": "stdout",
          "text": [
            "0\n",
            "1\n",
            "2\n",
            "3\n",
            "4\n",
            "5\n"
          ]
        }
      ]
    },
    {
      "cell_type": "markdown",
      "metadata": {
        "id": "KLivH-psaRRs"
      },
      "source": [
        "We can also add if statements in a for loop. Here is a real example from our pairs trading algorithm:"
      ]
    },
    {
      "cell_type": "code",
      "metadata": {
        "colab": {
          "base_uri": "https://localhost:8080/"
        },
        "id": "KcYni7t5aVov",
        "outputId": "410c99a8-7178-4b56-95f1-eb8dd228d300"
      },
      "source": [
        "#Ejemplo quantconnect\n",
        "stocks = ['AAPL','GOOG','IBM','FB','F','V', 'G', 'GE']\n",
        "selected = ['AAPL','IBM']\n",
        "new_list = []\n",
        "for stock in stocks:\n",
        "    if stock not in selected:\n",
        "        new_list.append(stock)\n",
        "print(new_list)"
      ],
      "execution_count": 147,
      "outputs": [
        {
          "output_type": "stream",
          "name": "stdout",
          "text": [
            "['GOOG', 'FB', 'F', 'V', 'G', 'GE']\n"
          ]
        }
      ]
    },
    {
      "cell_type": "code",
      "metadata": {
        "colab": {
          "base_uri": "https://localhost:8080/"
        },
        "id": "cv8yjO9MaaZE",
        "outputId": "dbb9d9b9-a735-4502-a146-53b3450fd843"
      },
      "source": [
        "#ejemplo propio\n",
        "numbers = [4,5,6,7,6,8,1,9,5]\n",
        "selected_numbers = [5,1]\n",
        "new_num_list = []\n",
        "for number in numbers:\n",
        "    if number not in selected_numbers:\n",
        "        new_num_list.append(number)\n",
        "print(numbers)\n",
        "print(new_num_list)"
      ],
      "execution_count": 155,
      "outputs": [
        {
          "output_type": "stream",
          "name": "stdout",
          "text": [
            "[4, 5, 6, 7, 6, 8, 1, 9, 5]\n",
            "[4, 6, 7, 6, 8, 9]\n"
          ]
        }
      ]
    },
    {
      "cell_type": "markdown",
      "metadata": {
        "id": "7Ua4hWMob_iZ"
      },
      "source": [
        "Here we iterated all the elements in the list 'stocks'. Later in this chapter, we will introduce a smarter way to do this, which is just a one-line code.\n",
        "\n",
        "### **_Break and continue_**\n",
        "These are two commonly used commands in a for loop. If \"break\" is triggered while a loop is executing, the loop will terminate immediately:"
      ]
    },
    {
      "cell_type": "code",
      "metadata": {
        "id": "QRyIwhlzcO_Y"
      },
      "source": [
        "#Ejemplo quantconnect\n",
        "stocks = ['AAPL','GOOG','IBM','FB','F','V', 'G', 'GE']\n",
        "for stock in stocks:\n",
        "    print(stock)\n",
        "    if stock == 'FB': break"
      ],
      "execution_count": null,
      "outputs": []
    },
    {
      "cell_type": "code",
      "metadata": {
        "colab": {
          "base_uri": "https://localhost:8080/"
        },
        "id": "fsRCRL7ccT_m",
        "outputId": "feb1178b-e310-48e3-c30c-d94c7c436649"
      },
      "source": [
        "#Ejemplo propio\n",
        "numbers = [4,5,5,6,6,4,0,9,6,5,5]\n",
        "for number in numbers:\n",
        "    print(number)\n",
        "    if number == 0:\n",
        "      break"
      ],
      "execution_count": 157,
      "outputs": [
        {
          "output_type": "stream",
          "name": "stdout",
          "text": [
            "4\n",
            "5\n",
            "5\n",
            "6\n",
            "6\n",
            "4\n",
            "0\n"
          ]
        }
      ]
    },
    {
      "cell_type": "markdown",
      "metadata": {
        "id": "1TQdNlu7c0u5"
      },
      "source": [
        "The \"continue\" command tells the loop to end this iteration and skip to the next iteration:"
      ]
    },
    {
      "cell_type": "code",
      "metadata": {
        "colab": {
          "base_uri": "https://localhost:8080/"
        },
        "id": "psGjCAC5c4E0",
        "outputId": "4060798c-916b-405b-e481-2d47d1f06dcf"
      },
      "source": [
        "#Ejemplo quantconnect\n",
        "stocks = ['AAPL','GOOG','IBM','FB','F','V', 'G', 'GE']\n",
        "for stock in stocks:\n",
        "    if stock == 'FB': continue\n",
        "    print(stock)"
      ],
      "execution_count": 5,
      "outputs": [
        {
          "output_type": "stream",
          "name": "stdout",
          "text": [
            "AAPL\n",
            "GOOG\n",
            "IBM\n",
            "F\n",
            "V\n",
            "G\n",
            "GE\n"
          ]
        }
      ]
    },
    {
      "cell_type": "code",
      "metadata": {
        "colab": {
          "base_uri": "https://localhost:8080/"
        },
        "id": "EPfdYVlYdOHz",
        "outputId": "f3c4cc2d-2e9e-4d45-8b81-65c79e3e9981"
      },
      "source": [
        "#Ejemplo propio\n",
        "numbers = [4,5,5,6,6,4,0,9,6,5,5]\n",
        "for number in numbers:\n",
        "    if number == 0: \n",
        "      continue\n",
        "    print(number)"
      ],
      "execution_count": 4,
      "outputs": [
        {
          "output_type": "stream",
          "name": "stdout",
          "text": [
            "4\n",
            "5\n",
            "5\n",
            "6\n",
            "6\n",
            "4\n",
            "9\n",
            "6\n",
            "5\n",
            "5\n"
          ]
        }
      ]
    },
    {
      "cell_type": "markdown",
      "metadata": {
        "id": "fik5CTPZdzbZ"
      },
      "source": [
        "## **list Comprehension**\n",
        "List comprehension is a Pythonic way to create lists. Common applications are to make new lists where each element is the result of some operations applied to each member of another sequence. For example, if we want to create a list of squares using for loop:"
      ]
    },
    {
      "cell_type": "code",
      "metadata": {
        "colab": {
          "base_uri": "https://localhost:8080/"
        },
        "id": "UrpAjICOd88b",
        "outputId": "76326458-6aa5-4adb-e342-de714ffdeac1"
      },
      "source": [
        "#Ejemplo quantconnect\n",
        "squares = []\n",
        "for i in [1,2,3,4,5]:\n",
        "    squares.append(i**2)\n",
        "print(squares)"
      ],
      "execution_count": 6,
      "outputs": [
        {
          "output_type": "stream",
          "name": "stdout",
          "text": [
            "[1, 4, 9, 16, 25]\n"
          ]
        }
      ]
    },
    {
      "cell_type": "code",
      "metadata": {
        "colab": {
          "base_uri": "https://localhost:8080/"
        },
        "id": "y922nRLSeYe5",
        "outputId": "21886fad-45e9-45af-c756-2b410e581c8a"
      },
      "source": [
        "#Ejemplo propio\n",
        "abc = []\n",
        "for i in ['a','b','c','d','e','f']:\n",
        "    abc.append(i*3)\n",
        "print(abc)"
      ],
      "execution_count": 10,
      "outputs": [
        {
          "output_type": "stream",
          "name": "stdout",
          "text": [
            "['aaa', 'bbb', 'ccc', 'ddd', 'eee', 'fff']\n"
          ]
        }
      ]
    },
    {
      "cell_type": "markdown",
      "metadata": {
        "id": "xNtjFOfqfBtm"
      },
      "source": [
        "Using list comprehension:"
      ]
    },
    {
      "cell_type": "code",
      "metadata": {
        "colab": {
          "base_uri": "https://localhost:8080/"
        },
        "id": "Pkx2BaT6fDgc",
        "outputId": "ac0a49a9-4970-44c3-83c1-b2b71cc79e58"
      },
      "source": [
        "#Ejemplo quantconnect\n",
        "foo = [1,2,3,4,5]\n",
        "squares = [x**2 for x in foo]\n",
        "print(squares)"
      ],
      "execution_count": 11,
      "outputs": [
        {
          "output_type": "stream",
          "name": "stdout",
          "text": [
            "[1, 4, 9, 16, 25]\n"
          ]
        }
      ]
    },
    {
      "cell_type": "code",
      "metadata": {
        "colab": {
          "base_uri": "https://localhost:8080/"
        },
        "id": "K7FJgQDYfJXF",
        "outputId": "5f0c85c9-03d0-4913-8dfc-b3f05655cca2"
      },
      "source": [
        "#Ejemplo propio\n",
        "until_f = ['a','b','c','d','e','f']\n",
        "abc = [x*3 for x in until_f]\n",
        "print(abc)"
      ],
      "execution_count": 12,
      "outputs": [
        {
          "output_type": "stream",
          "name": "stdout",
          "text": [
            "['aaa', 'bbb', 'ccc', 'ddd', 'eee', 'fff']\n"
          ]
        }
      ]
    },
    {
      "cell_type": "markdown",
      "metadata": {
        "id": "s5X11JMmftoV"
      },
      "source": [
        "Recall the example above where we used a for loop to select stocks. Here we use list comprehension:"
      ]
    },
    {
      "cell_type": "code",
      "metadata": {
        "colab": {
          "base_uri": "https://localhost:8080/"
        },
        "id": "fvbzF505fvj3",
        "outputId": "c4f4bf27-ac3e-443b-a404-456b0d9b51c2"
      },
      "source": [
        "#Ejemplo quantconnect\n",
        "stocks = ['AAPL','GOOG','IBM','FB','F','V', 'G', 'GE']\n",
        "selected = ['AAPL','IBM']\n",
        "new_list = [x for x in stocks if x not in selected]\n",
        "print(new_list)"
      ],
      "execution_count": 14,
      "outputs": [
        {
          "output_type": "stream",
          "name": "stdout",
          "text": [
            "['GOOG', 'FB', 'F', 'V', 'G', 'GE']\n"
          ]
        }
      ]
    },
    {
      "cell_type": "code",
      "metadata": {
        "colab": {
          "base_uri": "https://localhost:8080/"
        },
        "id": "qNV9nlb5f1wj",
        "outputId": "08526366-f4ce-47f7-b7d3-c3ea48d1dea5"
      },
      "source": [
        "#ejemplo propio\n",
        "numbers = [4,5,6,7,6,8,1,9,5]\n",
        "selected_numbers = [5,1]\n",
        "new_num_list = [x for x in numbers if x not in selected_numbers]\n",
        "\n",
        "print(numbers)\n",
        "print(new_num_list)"
      ],
      "execution_count": 13,
      "outputs": [
        {
          "output_type": "stream",
          "name": "stdout",
          "text": [
            "[4, 5, 6, 7, 6, 8, 1, 9, 5]\n",
            "[4, 6, 7, 6, 8, 9]\n"
          ]
        }
      ]
    },
    {
      "cell_type": "markdown",
      "metadata": {
        "id": "6bD015pvgOUh"
      },
      "source": [
        "A list comprehension consists of square brackets containing an expression followed by a \"for\" clause, and possibly \"for\" or \"if\" clauses. For example:"
      ]
    },
    {
      "cell_type": "code",
      "metadata": {
        "colab": {
          "base_uri": "https://localhost:8080/"
        },
        "id": "U-2hUc2RgUBR",
        "outputId": "34b0d625-9382-408a-cf9c-097e6e6aa286"
      },
      "source": [
        "#Ejemplo quantconnect\n",
        "print([(x, y) for x in [1,2,3] for y in [3,1,4] if x != y])\n",
        "print([str(x) + ' vs ' + str(y) for x in ['AAPL','GOOG','IBM','FB'] for y in ['F','V','G','GE'] if x != y])"
      ],
      "execution_count": 15,
      "outputs": [
        {
          "output_type": "stream",
          "name": "stdout",
          "text": [
            "[(1, 3), (1, 4), (2, 3), (2, 1), (2, 4), (3, 1), (3, 4)]\n",
            "['AAPL vs F', 'AAPL vs V', 'AAPL vs G', 'AAPL vs GE', 'GOOG vs F', 'GOOG vs V', 'GOOG vs G', 'GOOG vs GE', 'IBM vs F', 'IBM vs V', 'IBM vs G', 'IBM vs GE', 'FB vs F', 'FB vs V', 'FB vs G', 'FB vs GE']\n"
          ]
        }
      ]
    },
    {
      "cell_type": "code",
      "metadata": {
        "colab": {
          "base_uri": "https://localhost:8080/"
        },
        "id": "uuevejRAgsr4",
        "outputId": "82211685-9619-4fba-b016-b5f595de45fc"
      },
      "source": [
        "#Ejemplo quantconnect\n",
        "print([(x, y) for x in ['a','b'] for y in [1,2,3,4,5,6] if x != y])\n",
        "\n",
        "print([str(x) + ' vs ' + str(y) for x in ['COL','ECU','BRA'] for y in ['CHI','ARG','URU','BRA'] if x != y])"
      ],
      "execution_count": 18,
      "outputs": [
        {
          "output_type": "stream",
          "name": "stdout",
          "text": [
            "[('a', 1), ('a', 2), ('a', 3), ('a', 4), ('a', 5), ('a', 6), ('b', 1), ('b', 2), ('b', 3), ('b', 4), ('b', 5), ('b', 6)]\n",
            "['COL vs CHI', 'COL vs ARG', 'COL vs URU', 'COL vs BRA', 'ECU vs CHI', 'ECU vs ARG', 'ECU vs URU', 'ECU vs BRA', 'BRA vs CHI', 'BRA vs ARG', 'BRA vs URU']\n"
          ]
        }
      ]
    },
    {
      "cell_type": "markdown",
      "metadata": {
        "id": "6sCyEFNqiOFm"
      },
      "source": [
        "List comprehension is an elegant way to organize one or more for loops when creating a list.\n",
        "\n",
        "### **Summary**\n",
        "This chapter has introduced logical operations, loops, and list comprehension. In the next chapter, we will introduce functions and object-oriented programming, which will enable us to make our codes clean and versatile."
      ]
    },
    {
      "cell_type": "markdown",
      "metadata": {
        "id": "271Nl1D6iUxa"
      },
      "source": [
        "# **3. Functions and Objective-Oriented Programming**\n",
        "## **Introduction**\n",
        "In the last tutorial we introduced logical operations, loops and list comprehension. We will introduce functions and object-oriented programming in this chapter, which will enable us to build complex algorithms in more flexible ways.\n",
        "\n",
        "## **Functions**\n",
        "A function is a reusable block of code. We can use a function to output a value, or do anything else we want. We can easily define our own function by using the keyword \"def\"."
      ]
    },
    {
      "cell_type": "code",
      "metadata": {
        "colab": {
          "base_uri": "https://localhost:8080/"
        },
        "id": "LhbVn9_Kjg2X",
        "outputId": "934edd14-6b6c-480b-a4bc-b89838675a4f"
      },
      "source": [
        "#Ejemplo quantconnect\n",
        "def product(x,y):\n",
        "    return x*y\n",
        "print(product(2,3))\n",
        "\n",
        "print(product(5,10))\n"
      ],
      "execution_count": 19,
      "outputs": [
        {
          "output_type": "stream",
          "name": "stdout",
          "text": [
            "6\n",
            "50\n"
          ]
        }
      ]
    },
    {
      "cell_type": "code",
      "metadata": {
        "colab": {
          "base_uri": "https://localhost:8080/"
        },
        "id": "MsXYcToAjr4v",
        "outputId": "125ae33f-f29c-4e2c-c7f0-a7d17ad5a389"
      },
      "source": [
        "#Ejemplo propio\n",
        "def suma(x,y):\n",
        "    return x+y\n",
        "print(suma(56,44))\n",
        "\n",
        "print(suma(5,14))\n"
      ],
      "execution_count": 23,
      "outputs": [
        {
          "output_type": "stream",
          "name": "stdout",
          "text": [
            "100\n",
            "19\n"
          ]
        }
      ]
    },
    {
      "cell_type": "markdown",
      "metadata": {
        "id": "RtkWwgKotJeb"
      },
      "source": [
        "The keyword \"def\" is followed by the function name and the parenthesized list of formal parameters. The statements that form the body of the function start at the next line, and must be indented. The product() function above has \"x\" and \"y\" as its parameters. A function doesn't necessarily have parameters:"
      ]
    },
    {
      "cell_type": "code",
      "metadata": {
        "colab": {
          "base_uri": "https://localhost:8080/"
        },
        "id": "OPO5xL1YtR0M",
        "outputId": "43e4d87b-735f-492d-c879-6d7e7fb40ba0"
      },
      "source": [
        "#Ejemplo quantconnect\n",
        "def say_hi():\n",
        "    print('Welcome to QuantConnect')\n",
        "say_hi()"
      ],
      "execution_count": 25,
      "outputs": [
        {
          "output_type": "stream",
          "name": "stdout",
          "text": [
            "Welcome to QuantConnect\n"
          ]
        }
      ]
    },
    {
      "cell_type": "code",
      "metadata": {
        "colab": {
          "base_uri": "https://localhost:8080/"
        },
        "id": "zuEfYfcNtSbP",
        "outputId": "d239bc49-6af0-41ed-bc2c-046798c12649"
      },
      "source": [
        "#Ejemplo propio\n",
        "def UNAL_hi():\n",
        "    print('Universidad Nacional de Colombia')\n",
        "UNAL_hi()"
      ],
      "execution_count": 27,
      "outputs": [
        {
          "output_type": "stream",
          "name": "stdout",
          "text": [
            "Universidad Nacional de Colombia\n"
          ]
        }
      ]
    },
    {
      "cell_type": "markdown",
      "metadata": {
        "id": "uWQM5DxTtv2t"
      },
      "source": [
        "## **Built-in Function**\n",
        "**_range()_** is a function that creates a list containing an arithmetic sequence. It's often used in for loops. The arguments must be integers. If the \"step\" argument is omitted, it defaults to 1."
      ]
    },
    {
      "cell_type": "code",
      "metadata": {
        "colab": {
          "base_uri": "https://localhost:8080/"
        },
        "id": "IHrVmI6Yt7Iu",
        "outputId": "d8c051ff-c070-4538-b827-12851d4bf865"
      },
      "source": [
        "#Ejemplo quantconnect\n",
        "print(range(10))\n",
        "\n",
        "print(range(1, 11))\n",
        "\n",
        "print(range(1, 11, 2))\n"
      ],
      "execution_count": 29,
      "outputs": [
        {
          "output_type": "stream",
          "name": "stdout",
          "text": [
            "range(0, 10)\n",
            "range(1, 11)\n",
            "range(1, 11, 2)\n"
          ]
        }
      ]
    },
    {
      "cell_type": "code",
      "metadata": {
        "colab": {
          "base_uri": "https://localhost:8080/"
        },
        "id": "X-_LuErbuB4j",
        "outputId": "03e2be64-5997-4a9c-9d6c-e5c0af60085a"
      },
      "source": [
        "#Ejemplo propio\n",
        "print(range(15))\n",
        "\n",
        "print(range(5, 20))\n",
        "\n",
        "print(range(6, 35, 3))\n"
      ],
      "execution_count": 37,
      "outputs": [
        {
          "output_type": "stream",
          "name": "stdout",
          "text": [
            "range(0, 15)\n",
            "range(5, 20)\n",
            "range(6, 35, 3)\n"
          ]
        }
      ]
    },
    {
      "cell_type": "markdown",
      "metadata": {
        "id": "_Gs6yj5Eu4Fc"
      },
      "source": [
        "**_len()_** is another function used together with range() to create a for loop. This function returns the length of an object. The argument must be a sequence or a collection."
      ]
    },
    {
      "cell_type": "code",
      "metadata": {
        "colab": {
          "base_uri": "https://localhost:8080/"
        },
        "id": "2DADNG54vE27",
        "outputId": "e9912fca-a345-4f55-9c24-6442c276fad3"
      },
      "source": [
        "#Ejemplo quantconnect\n",
        "tickers = ['AAPL', 'GOOGL', 'IBM', 'FB', 'F', 'V', 'G', 'GE']\n",
        "print(\"The number of tickers is {}\".format(len(tickers)))\n",
        "for k in range(len(tickers)):\n",
        "    print(k + 1, tickers[k])"
      ],
      "execution_count": 39,
      "outputs": [
        {
          "output_type": "stream",
          "name": "stdout",
          "text": [
            "The number of tickers is 8\n",
            "1 AAPL\n",
            "2 GOOGL\n",
            "3 IBM\n",
            "4 FB\n",
            "5 F\n",
            "6 V\n",
            "7 G\n",
            "8 GE\n"
          ]
        }
      ]
    },
    {
      "cell_type": "code",
      "metadata": {
        "colab": {
          "base_uri": "https://localhost:8080/"
        },
        "id": "nZ2TF6Aubg6Q",
        "outputId": "3384d370-a6bb-4bfa-a0a4-be084bfc5e3b"
      },
      "source": [
        "#ejemplo propio\n",
        "letters = ['a','b','c','d','e','f']\n",
        "print(\"The number of letters is {}\".format(len(letters)))\n",
        "for i in range(len(letters)):\n",
        "    print(i + 1, letters[i])"
      ],
      "execution_count": 1,
      "outputs": [
        {
          "output_type": "stream",
          "name": "stdout",
          "text": [
            "The number of letters is 6\n",
            "1 a\n",
            "2 b\n",
            "3 c\n",
            "4 d\n",
            "5 e\n",
            "6 f\n"
          ]
        }
      ]
    },
    {
      "cell_type": "markdown",
      "metadata": {
        "id": "kIHNQVYgcWss"
      },
      "source": [
        "Note: If you want to print only the tickers without those numbers, then simply write \"for ticker in tickers: print ticker\"\n",
        "\n",
        "**_map()_** is a function that applies a specific function to every item of a sequence or collection, and returns a list of the results."
      ]
    },
    {
      "cell_type": "code",
      "metadata": {
        "colab": {
          "base_uri": "https://localhost:8080/"
        },
        "id": "UR4fEMSicaed",
        "outputId": "6c156f19-7654-4cff-eeb7-6a4258975e9c"
      },
      "source": [
        "#Ejemplo quantconnect\n",
        "tickers = ['AAPL','GOOG','IBM','FB','F','V', 'G', 'GE']\n",
        "print(list(map(len,tickers)))"
      ],
      "execution_count": 4,
      "outputs": [
        {
          "output_type": "stream",
          "name": "stdout",
          "text": [
            "[4, 4, 3, 2, 1, 1, 1, 2]\n"
          ]
        }
      ]
    },
    {
      "cell_type": "code",
      "metadata": {
        "colab": {
          "base_uri": "https://localhost:8080/"
        },
        "id": "wJtkpj7hcjP7",
        "outputId": "b9600459-238e-47a4-d45f-a40ce992607a"
      },
      "source": [
        "#ejemplo propio\n",
        "words = ['ant','bee','cold','dust','exit','fork']\n",
        "print(list(map(len,words)))"
      ],
      "execution_count": 5,
      "outputs": [
        {
          "output_type": "stream",
          "name": "stdout",
          "text": [
            "[3, 3, 4, 4, 4, 4]\n"
          ]
        }
      ]
    },
    {
      "cell_type": "markdown",
      "metadata": {
        "id": "hdVf8dpddiXL"
      },
      "source": [
        "The **_lambda operator_** is a way to create small anonymous functions. These functions are just needed where they have been created. For example:"
      ]
    },
    {
      "cell_type": "code",
      "metadata": {
        "colab": {
          "base_uri": "https://localhost:8080/"
        },
        "id": "DMM875grdnNK",
        "outputId": "df2294d0-1ee7-4aca-c5cb-03cf19de9468"
      },
      "source": [
        "#Ejemplo quantconnect\n",
        "list(map(lambda x: x**2, range(10)))"
      ],
      "execution_count": 7,
      "outputs": [
        {
          "output_type": "execute_result",
          "data": {
            "text/plain": [
              "[0, 1, 4, 9, 16, 25, 36, 49, 64, 81]"
            ]
          },
          "metadata": {},
          "execution_count": 7
        }
      ]
    },
    {
      "cell_type": "code",
      "metadata": {
        "colab": {
          "base_uri": "https://localhost:8080/"
        },
        "id": "oLIK0d_nd86H",
        "outputId": "53a3a9d5-1af9-4a3a-be12-e9e96f23cf79"
      },
      "source": [
        "#Ejemplo propio\n",
        "list(map(lambda x: (x+x)*x, range(10)))"
      ],
      "execution_count": 10,
      "outputs": [
        {
          "output_type": "execute_result",
          "data": {
            "text/plain": [
              "[0, 2, 8, 18, 32, 50, 72, 98, 128, 162]"
            ]
          },
          "metadata": {},
          "execution_count": 10
        }
      ]
    },
    {
      "cell_type": "markdown",
      "metadata": {
        "id": "teUFy3ZSeZHt"
      },
      "source": [
        "map() can be applied to more than one list. The lists have to have the same length."
      ]
    },
    {
      "cell_type": "code",
      "metadata": {
        "colab": {
          "base_uri": "https://localhost:8080/"
        },
        "id": "BZD2Kos3ef9H",
        "outputId": "20f54ad1-d324-4d5d-fce6-514fd3738060"
      },
      "source": [
        "#Ejemplo quantconnect\n",
        "list(map(lambda x, y: x+y, [1,2,3,4,5], [5,4,3,2,1]))"
      ],
      "execution_count": 13,
      "outputs": [
        {
          "output_type": "execute_result",
          "data": {
            "text/plain": [
              "[6, 6, 6, 6, 6]"
            ]
          },
          "metadata": {},
          "execution_count": 13
        }
      ]
    },
    {
      "cell_type": "code",
      "metadata": {
        "colab": {
          "base_uri": "https://localhost:8080/"
        },
        "id": "gto3F8ODemSm",
        "outputId": "877da018-3615-4dd0-b566-febc4287cdbc"
      },
      "source": [
        "#Ejemplo propio\n",
        "list(map(lambda x, y: x**y, [1,2,3,4,5], [5,4,3,2,1]))"
      ],
      "execution_count": 14,
      "outputs": [
        {
          "output_type": "execute_result",
          "data": {
            "text/plain": [
              "[1, 16, 27, 16, 5]"
            ]
          },
          "metadata": {},
          "execution_count": 14
        }
      ]
    },
    {
      "cell_type": "markdown",
      "metadata": {
        "id": "aXiNepBUew9H"
      },
      "source": [
        "**_sorted()_** takes a list or set and returns a new sorted list:"
      ]
    },
    {
      "cell_type": "code",
      "metadata": {
        "colab": {
          "base_uri": "https://localhost:8080/"
        },
        "id": "qtj8dL1le7G9",
        "outputId": "b28c2486-017e-4059-f1c1-1b6932040e0a"
      },
      "source": [
        "#Ejemplo quantconnect\n",
        "sorted([5,2,3,4,1])"
      ],
      "execution_count": 15,
      "outputs": [
        {
          "output_type": "execute_result",
          "data": {
            "text/plain": [
              "[1, 2, 3, 4, 5]"
            ]
          },
          "metadata": {},
          "execution_count": 15
        }
      ]
    },
    {
      "cell_type": "code",
      "metadata": {
        "colab": {
          "base_uri": "https://localhost:8080/"
        },
        "id": "ekMWYlDAe8P7",
        "outputId": "69070f18-1442-4462-a58d-8f961e871415"
      },
      "source": [
        "#Ejemplo propio\n",
        "sorted(['i','u','o','e','a'], reverse=True)"
      ],
      "execution_count": 18,
      "outputs": [
        {
          "output_type": "execute_result",
          "data": {
            "text/plain": [
              "['u', 'o', 'i', 'e', 'a']"
            ]
          },
          "metadata": {},
          "execution_count": 18
        }
      ]
    },
    {
      "cell_type": "markdown",
      "metadata": {
        "id": "FYUr0DhBe1HU"
      },
      "source": [
        "We can add a \"key\" parameter to specify a function to be called on each list element prior to making comparisons. For example:"
      ]
    },
    {
      "cell_type": "code",
      "metadata": {
        "colab": {
          "base_uri": "https://localhost:8080/"
        },
        "id": "VusitSwAfesn",
        "outputId": "49cd0b4e-0333-42c3-c3cf-c1a1a64fe649"
      },
      "source": [
        "#Ejemplo quantconnect\n",
        "price_list = [('AAPL', 144.09), ('GOOGL', 911.71), ('MSFT', 69), ('FB', 150), ('WMT', 75.32)]\n",
        "sorted(price_list, key = lambda x: x[1])\n"
      ],
      "execution_count": 24,
      "outputs": [
        {
          "output_type": "execute_result",
          "data": {
            "text/plain": [
              "[('MSFT', 69),\n",
              " ('WMT', 75.32),\n",
              " ('AAPL', 144.09),\n",
              " ('FB', 150),\n",
              " ('GOOGL', 911.71)]"
            ]
          },
          "metadata": {},
          "execution_count": 24
        }
      ]
    },
    {
      "cell_type": "code",
      "metadata": {
        "colab": {
          "base_uri": "https://localhost:8080/"
        },
        "id": "XvvjJOL8ffJq",
        "outputId": "f6b30573-bc7e-4d09-9eed-05fa9a4d478b"
      },
      "source": [
        "#Ejemplo propio\n",
        "subject_list = [('ALG', 211), ('MUN', 212), ('M&S', 213), ('PHI', 214), ('GGP', 215)]\n",
        "sorted(subject_list, key = lambda x: x[1])\n"
      ],
      "execution_count": 27,
      "outputs": [
        {
          "output_type": "execute_result",
          "data": {
            "text/plain": [
              "[('ALG', 211), ('MUN', 212), ('M&S', 213), ('PHI', 214), ('GGP', 215)]"
            ]
          },
          "metadata": {},
          "execution_count": 27
        }
      ]
    },
    {
      "cell_type": "markdown",
      "metadata": {
        "id": "QDfGDKJxe3PX"
      },
      "source": [
        "By default the values are sorted by ascending order. We can change it to descending by adding an optional parameter \"reverse'."
      ]
    },
    {
      "cell_type": "code",
      "metadata": {
        "id": "hMYxccE_g28e"
      },
      "source": [
        "#Ejemplo quantconnect\n",
        "price_list = [('AAPL', 144.09), ('GOOGL', 911.71), ('MSFT', 69), ('FB', 150), ('WMT', 75.32)]\n",
        "sorted(price_list, key = lambda x: x[1], reverse=True)"
      ],
      "execution_count": null,
      "outputs": []
    },
    {
      "cell_type": "code",
      "metadata": {
        "id": "msddRF_7g8tN"
      },
      "source": [
        "#Ejemplo propio\n",
        "subject_list = [('ALG', 211), ('MUN', 212), ('M&S', 213), ('PHI', 214), ('GGP', 215)]\n",
        "sorted(subject_list, key = lambda x: x[1], reverse=True)"
      ],
      "execution_count": null,
      "outputs": []
    },
    {
      "cell_type": "markdown",
      "metadata": {
        "id": "F0jjZBgTe5Ce"
      },
      "source": [
        "Lists also have a function list.sort(). This function takes the same \"key\" and \"reverse\" arguments as sorted(), but it doesn't return a new list."
      ]
    },
    {
      "cell_type": "code",
      "metadata": {
        "colab": {
          "base_uri": "https://localhost:8080/"
        },
        "id": "EVQ6QAK1hB0K",
        "outputId": "1ef4e212-d890-431f-ba5e-1ef2a7652d7c"
      },
      "source": [
        "#Ejemplo quantconnect\n",
        "price_list = [('AAPL', 144.09), ('GOOGL', 911.71), ('MSFT', 69), ('FB', 150), ('WMT', 75.32)]\n",
        "price_list.sort(key = lambda x: x[1])\n",
        "print(price_list)"
      ],
      "execution_count": 28,
      "outputs": [
        {
          "output_type": "stream",
          "name": "stdout",
          "text": [
            "[('MSFT', 69), ('WMT', 75.32), ('AAPL', 144.09), ('FB', 150), ('GOOGL', 911.71)]\n"
          ]
        }
      ]
    },
    {
      "cell_type": "code",
      "metadata": {
        "colab": {
          "base_uri": "https://localhost:8080/"
        },
        "id": "N6kV5JgKhGKd",
        "outputId": "8edd22bb-b549-4ac8-8da9-1dec25fd73e6"
      },
      "source": [
        "#Ejemplo propio\n",
        "subject_list = [('ALG', 211), ('MUN', 212), ('M&S', 213), ('PHI', 214), ('GGP', 215)]\n",
        "subject_list.sort(key=lambda x: x[1])\n",
        "print(subject_list)"
      ],
      "execution_count": 29,
      "outputs": [
        {
          "output_type": "stream",
          "name": "stdout",
          "text": [
            "[('ALG', 211), ('MUN', 212), ('M&S', 213), ('PHI', 214), ('GGP', 215)]\n"
          ]
        }
      ]
    },
    {
      "cell_type": "markdown",
      "metadata": {
        "id": "38PTqHSWhjub"
      },
      "source": [
        "## **Object-Oriented Programming**\n",
        "Python is an object-oriented programming language. It's important to understand the concept of \"objects\" because almost every kind of data from QuantConnect API is an object.\n",
        "\n",
        "### **_Class_**\n",
        "A class is a type of data, just like a string, float, or list. When we create an object of that data type, we call it an **_instance_** of a class.\n",
        "\n",
        "In Python, everything is an object - everything is an instance of some class. The data stored inside an object are called **_attributes_**, and the functions which are associated with the object are called **_methods_**.\n",
        "\n",
        "For example, as mentioned above, a list is an object of the \"list\" class, and it has a method list.sort().\n",
        "\n",
        "We can create our own objects by defining a class. We would do this when it's helpful to group certain functions together. For example, we define a class named \"Stock\" here:"
      ]
    },
    {
      "cell_type": "code",
      "metadata": {
        "id": "5S_kdiFGikY5"
      },
      "source": [
        "#Ejemplo quantconnect\n",
        "class Stock:\n",
        "    def __init__(self, ticker, open, close, volume):\n",
        "        self.ticker = ticker\n",
        "        self.open = open\n",
        "        self.close = close\n",
        "        self.volume = volume\n",
        "        self.rate_return = float(close)/open - 1\n",
        "\n",
        "    def update(self, open, close):\n",
        "        self.open = open\n",
        "        self.close = close\n",
        "        self.rate_return = float(self.close)/self.open - 1\n",
        "\n",
        "    def print_return(self):\n",
        "        print(self.rate_return)"
      ],
      "execution_count": 31,
      "outputs": []
    },
    {
      "cell_type": "code",
      "metadata": {
        "id": "UE3DJKTii_4y"
      },
      "source": [
        "#Ejemplo propio\n",
        "class Student:\n",
        "  def __init__(self, ID, name, age):\n",
        "    self.ID = ID\n",
        "    self.name = name\n",
        "    self.age = age\n",
        "    \n",
        "  def update_s(self, ID, age):\n",
        "    self.ID = ID\n",
        "    self.age = age"
      ],
      "execution_count": 45,
      "outputs": []
    },
    {
      "cell_type": "markdown",
      "metadata": {
        "id": "W2GMRGMXiuRb"
      },
      "source": [
        "The \"Stock\" class has attributes \"ticker\", \"open\", \"close\", \"volume\" and \"rate_return\". Inside the class body, the first method is called __init__, which is a special method. When we create a new instance of the class, the __init__ method is immediately executed with all the parameters that we pass to the \"Stock\" object. The purpose of this method is to set up a new \"Stock\" object using data we have provided.\n",
        "\n",
        "Here we create two Stock objects named \"apple\" and \"google\"."
      ]
    },
    {
      "cell_type": "code",
      "metadata": {
        "id": "zsB1oiNpkIyC"
      },
      "source": [
        "#Ejemplo quantconnect\n",
        "apple  = Stock('AAPL', 143.69, 144.09, 20109375)\n",
        "google = Stock('GOOGL', 898.7, 911.7, 1561616)"
      ],
      "execution_count": 33,
      "outputs": []
    },
    {
      "cell_type": "code",
      "metadata": {
        "id": "eNtMb-qNkJ1t"
      },
      "source": [
        "#Ejemplo propio\n",
        "Juan = Student(123,'Juan Gonzalez', 15)\n",
        "Juana = Student(321,'Juana Rodriguez', 16)"
      ],
      "execution_count": 46,
      "outputs": []
    },
    {
      "cell_type": "markdown",
      "metadata": {
        "id": "vTQFSXlIl0g6"
      },
      "source": [
        "\n",
        "Stock objects also have two other methods: update() and print_return(). We can access the attribues of a Stock object and call its methods:"
      ]
    },
    {
      "cell_type": "code",
      "metadata": {
        "colab": {
          "base_uri": "https://localhost:8080/"
        },
        "id": "cwifBWkwl-ky",
        "outputId": "76365ab8-49f4-4a6f-d406-3846a3926e42"
      },
      "source": [
        "#Ejemplo quantconnect\n",
        "apple.ticker\n",
        "\n",
        "google.print_return()\n",
        "\n",
        "google.update(912.8, 913.4)\n",
        "google.print_return()"
      ],
      "execution_count": 37,
      "outputs": [
        {
          "output_type": "stream",
          "name": "stdout",
          "text": [
            "0.014465338822744034\n",
            "0.0006573181419806673\n"
          ]
        }
      ]
    },
    {
      "cell_type": "code",
      "metadata": {
        "colab": {
          "base_uri": "https://localhost:8080/"
        },
        "id": "xKOxUguTmVu0",
        "outputId": "7cddaa15-4d92-4760-cb64-6bda948b7faa"
      },
      "source": [
        "#Ejemplo propio\n",
        "print(Juan.age)\n",
        "Juan.update_s(789,19)\n",
        "print(Juan.age)"
      ],
      "execution_count": 49,
      "outputs": [
        {
          "output_type": "stream",
          "name": "stdout",
          "text": [
            "15\n",
            "19\n"
          ]
        }
      ]
    },
    {
      "cell_type": "markdown",
      "metadata": {
        "id": "wZ8eGlCumADG"
      },
      "source": [
        "\n",
        "By calling the update() function, we updated the open and close prices of a stock. Please note that when we use the attributes or call the methods inside a class, we need to specify them as self.attribute or self.method(), otherwise Python will deem them as global variables and thus raise an error.\n",
        "\n",
        "We can add an attribute to an object anywhere:"
      ]
    },
    {
      "cell_type": "code",
      "metadata": {
        "colab": {
          "base_uri": "https://localhost:8080/",
          "height": 35
        },
        "id": "nzVr6VLOnrL3",
        "outputId": "bb5cabd2-0ebd-44f1-dd1e-847a327b8d20"
      },
      "source": [
        "#Ejemplo quantconnect\n",
        "apple.ceo = 'Tim Cook'\n",
        "apple.ceo"
      ],
      "execution_count": 50,
      "outputs": [
        {
          "output_type": "execute_result",
          "data": {
            "application/vnd.google.colaboratory.intrinsic+json": {
              "type": "string"
            },
            "text/plain": [
              "'Tim Cook'"
            ]
          },
          "metadata": {},
          "execution_count": 50
        }
      ]
    },
    {
      "cell_type": "code",
      "metadata": {
        "colab": {
          "base_uri": "https://localhost:8080/",
          "height": 35
        },
        "id": "gSNfnb68tMj8",
        "outputId": "1232305e-d2ac-4549-f6f3-0dd535dc2312"
      },
      "source": [
        "#Ejemplo propio\n",
        "Juan.address = 'calle falsa 123'\n",
        "Juan.address "
      ],
      "execution_count": 52,
      "outputs": [
        {
          "output_type": "execute_result",
          "data": {
            "application/vnd.google.colaboratory.intrinsic+json": {
              "type": "string"
            },
            "text/plain": [
              "'calle falsa 123'"
            ]
          },
          "metadata": {},
          "execution_count": 52
        }
      ]
    },
    {
      "cell_type": "markdown",
      "metadata": {
        "id": "IpqrGOh8upX3"
      },
      "source": [
        "We can check what names (i.e. attributes and methods) are defined on an object using the dir() function:"
      ]
    },
    {
      "cell_type": "code",
      "metadata": {
        "colab": {
          "base_uri": "https://localhost:8080/"
        },
        "id": "d3Pizf3vur4m",
        "outputId": "38a762bc-871c-48a7-ec05-8e6e2e3285b3"
      },
      "source": [
        "#Ejemplo quantconnect\n",
        "dir(apple)"
      ],
      "execution_count": 53,
      "outputs": [
        {
          "output_type": "execute_result",
          "data": {
            "text/plain": [
              "['__class__',\n",
              " '__delattr__',\n",
              " '__dict__',\n",
              " '__dir__',\n",
              " '__doc__',\n",
              " '__eq__',\n",
              " '__format__',\n",
              " '__ge__',\n",
              " '__getattribute__',\n",
              " '__gt__',\n",
              " '__hash__',\n",
              " '__init__',\n",
              " '__init_subclass__',\n",
              " '__le__',\n",
              " '__lt__',\n",
              " '__module__',\n",
              " '__ne__',\n",
              " '__new__',\n",
              " '__reduce__',\n",
              " '__reduce_ex__',\n",
              " '__repr__',\n",
              " '__setattr__',\n",
              " '__sizeof__',\n",
              " '__str__',\n",
              " '__subclasshook__',\n",
              " '__weakref__',\n",
              " 'ceo',\n",
              " 'close',\n",
              " 'open',\n",
              " 'print_return',\n",
              " 'rate_return',\n",
              " 'ticker',\n",
              " 'update',\n",
              " 'volume']"
            ]
          },
          "metadata": {},
          "execution_count": 53
        }
      ]
    },
    {
      "cell_type": "code",
      "metadata": {
        "colab": {
          "base_uri": "https://localhost:8080/"
        },
        "id": "rqwn86VMu1zg",
        "outputId": "4cae1cc2-36b5-494d-af7e-885fa2533cf7"
      },
      "source": [
        "dir(Juan)"
      ],
      "execution_count": 54,
      "outputs": [
        {
          "output_type": "execute_result",
          "data": {
            "text/plain": [
              "['ID',\n",
              " '__class__',\n",
              " '__delattr__',\n",
              " '__dict__',\n",
              " '__dir__',\n",
              " '__doc__',\n",
              " '__eq__',\n",
              " '__format__',\n",
              " '__ge__',\n",
              " '__getattribute__',\n",
              " '__gt__',\n",
              " '__hash__',\n",
              " '__init__',\n",
              " '__init_subclass__',\n",
              " '__le__',\n",
              " '__lt__',\n",
              " '__module__',\n",
              " '__ne__',\n",
              " '__new__',\n",
              " '__reduce__',\n",
              " '__reduce_ex__',\n",
              " '__repr__',\n",
              " '__setattr__',\n",
              " '__sizeof__',\n",
              " '__str__',\n",
              " '__subclasshook__',\n",
              " '__weakref__',\n",
              " 'address',\n",
              " 'age',\n",
              " 'name',\n",
              " 'update_s']"
            ]
          },
          "metadata": {},
          "execution_count": 54
        }
      ]
    },
    {
      "cell_type": "markdown",
      "metadata": {
        "id": "HDrkATy5u8MK"
      },
      "source": [
        "### **_Inheritance_**\n",
        "Inheritance is a way of arranging classes in a hierarchy from the most general to the most specific. A \"child\" class is a more specific type of a \"parent\" class because a child class will inherit all the attribues and methods of its parent. For example, we define a class named \"Child\" which inherits \"Stock\":"
      ]
    },
    {
      "cell_type": "code",
      "metadata": {
        "id": "8mZLHi7jvDLW"
      },
      "source": [
        "#Ejemplo quantconnect\n",
        "class Child(Stock):\n",
        "    def __init__(self, name):\n",
        "        self.name = name"
      ],
      "execution_count": 55,
      "outputs": []
    },
    {
      "cell_type": "code",
      "metadata": {
        "id": "TEVQj93WvunN"
      },
      "source": [
        "#ejemplo propio\n",
        "class ForeignStudent(Student):\n",
        "  def __init__(self,country):\n",
        "    self.country = country"
      ],
      "execution_count": 58,
      "outputs": []
    },
    {
      "cell_type": "markdown",
      "metadata": {
        "id": "j4sFeiWcvUyo"
      },
      "source": [
        "Then we create an object:"
      ]
    },
    {
      "cell_type": "code",
      "metadata": {
        "colab": {
          "base_uri": "https://localhost:8080/"
        },
        "id": "M9WkCfYNvV_m",
        "outputId": "e38a301e-de33-4878-8dd1-da8fe36458ce"
      },
      "source": [
        "#Ejemplo quantconnect\n",
        "aa = Child('AA')\n",
        "print(aa.name)\n",
        "\n",
        "aa.update(100, 102)\n",
        "print(aa.open)\n",
        "\n",
        "print(aa.close)\n",
        "\n",
        "print(aa.print_return())\n"
      ],
      "execution_count": 59,
      "outputs": [
        {
          "output_type": "stream",
          "name": "stdout",
          "text": [
            "AA\n",
            "100\n",
            "102\n",
            "0.020000000000000018\n",
            "None\n"
          ]
        }
      ]
    },
    {
      "cell_type": "code",
      "metadata": {
        "colab": {
          "base_uri": "https://localhost:8080/"
        },
        "id": "7ob7hO3UwrSU",
        "outputId": "4b202860-dcab-4705-8c80-da96e155b8a3"
      },
      "source": [
        "#ejemplo propio\n",
        "Esteban = ForeignStudent('España')\n",
        "print(Esteban.country)\n",
        "\n",
        "Esteban.update_s(109, 18)\n",
        "print(Esteban.age)\n",
        "print(Esteban.ID)"
      ],
      "execution_count": 66,
      "outputs": [
        {
          "output_type": "stream",
          "name": "stdout",
          "text": [
            "España\n",
            "18\n",
            "109\n"
          ]
        }
      ]
    },
    {
      "cell_type": "markdown",
      "metadata": {
        "id": "G2ss8ExYvZwe"
      },
      "source": [
        "As seen above, the new class Child has inherited the methods from Stock."
      ]
    },
    {
      "cell_type": "markdown",
      "metadata": {
        "id": "kHvcXN4oyag9"
      },
      "source": [
        "###**Summary**\n",
        "In this chapter we have introduced functions and classes. When we write a QuantConnect algorithm, we would define our algorithm as a class (QCAlgorithm). This means our algorithm inherited the QC API methods from QCAlgorithm class.\n",
        "\n",
        "In the next chapter, we will introduce NumPy and Pandas, which enable us to conduct scientific calculations in Python."
      ]
    },
    {
      "cell_type": "markdown",
      "metadata": {
        "id": "Mm-TMzDiymiL"
      },
      "source": [
        "# **4. NumPy and Basic Pandas**\n",
        "## **Introduction**\n",
        "Now that we have introduced the fundamentals of Python, it's time to learn about NumPy and Pandas.\n",
        "\n",
        "## **NumPy**\n",
        "NumPy is the core library for scientific computing in Python. It provides a high-performance multidimensional array object, and tools for working with these arrays. It also has strong integration with Pandas, which is another powerful tool for manipulating financial data.\n",
        "\n",
        "Python packages like NumPy and Pandas contain classes and methods which we can use by importing the package:"
      ]
    },
    {
      "cell_type": "code",
      "metadata": {
        "id": "-xGvLzWSy_TR"
      },
      "source": [
        "import numpy as np"
      ],
      "execution_count": 51,
      "outputs": []
    },
    {
      "cell_type": "markdown",
      "metadata": {
        "id": "PGZYVxh2zC9h"
      },
      "source": [
        "\n",
        "### **_Basic NumPy Arrays_**\n",
        "A NumPy array is a grid of values, all of the same type, and is indexed by a tuple of nonnegative integers. Here we make an array by passing a list of Apple stock prices:"
      ]
    },
    {
      "cell_type": "code",
      "metadata": {
        "colab": {
          "base_uri": "https://localhost:8080/"
        },
        "id": "yPweem410J_l",
        "outputId": "b37b87fc-ae0e-4d2d-dd7f-0d12b4c4ed0b"
      },
      "source": [
        "#Ejemplo quantconnect\n",
        "price_list = [143.73, 145.83, 143.68, 144.02, 143.5, 142.62]\n",
        "price_array = np.array(price_list)\n",
        "print(price_array, type(price_array)"
      ],
      "execution_count": 71,
      "outputs": [
        {
          "output_type": "stream",
          "name": "stdout",
          "text": [
            "[143.73 145.83 143.68 144.02 143.5  142.62] <class 'numpy.ndarray'>\n"
          ]
        }
      ]
    },
    {
      "cell_type": "code",
      "metadata": {
        "colab": {
          "base_uri": "https://localhost:8080/"
        },
        "id": "eLALHECS3F0z",
        "outputId": "7b8bc385-1726-4607-dde8-be6558635447"
      },
      "source": [
        "#Ejemplo propio\n",
        "cha_list = ['a', '6', '3', 'b', '5', 'v']\n",
        "cha_array = np.array(cha_list)\n",
        "print(cha_array, type(cha_array))"
      ],
      "execution_count": 72,
      "outputs": [
        {
          "output_type": "stream",
          "name": "stdout",
          "text": [
            "['a' '6' '3' 'b' '5' 'v'] <class 'numpy.ndarray'>\n"
          ]
        }
      ]
    },
    {
      "cell_type": "markdown",
      "metadata": {
        "id": "3MePPEtk4K6I"
      },
      "source": [
        "Notice that the type of array is \"ndarray\" which is a multi-dimensional array. ***If we pass np.array() a list of lists, it will create a 2-dimensional array.***"
      ]
    },
    {
      "cell_type": "code",
      "metadata": {
        "colab": {
          "base_uri": "https://localhost:8080/"
        },
        "id": "wmKoR58w4Xmd",
        "outputId": "570ed590-839e-4219-b4a5-b73ab3e1bb1c"
      },
      "source": [
        "#Ejemplo quantconnect\n",
        "Ar = np.array([[1,3], [2,4]])\n",
        "print(Ar, type(Ar))"
      ],
      "execution_count": 77,
      "outputs": [
        {
          "output_type": "stream",
          "name": "stdout",
          "text": [
            "[[1 3]\n",
            " [2 4]] <class 'numpy.ndarray'>\n"
          ]
        }
      ]
    },
    {
      "cell_type": "code",
      "metadata": {
        "colab": {
          "base_uri": "https://localhost:8080/"
        },
        "id": "y9n1bSZ74wRm",
        "outputId": "dac8812b-9e05-4926-9e22-551029f32c10"
      },
      "source": [
        "#Ejemplo propio\n",
        "ndarr = np.array([[1,2,3], [4,5,6], [7,8,9]])\n",
        "print(ndarr, type(ndarr))"
      ],
      "execution_count": 75,
      "outputs": [
        {
          "output_type": "stream",
          "name": "stdout",
          "text": [
            "[[1 2 3]\n",
            " [4 5 6]\n",
            " [7 8 9]] <class 'numpy.ndarray'>\n"
          ]
        }
      ]
    },
    {
      "cell_type": "markdown",
      "metadata": {
        "id": "Vw7ieT4V5CUw"
      },
      "source": [
        "We get the dimensions of an ndarray using the .shape attribute:"
      ]
    },
    {
      "cell_type": "code",
      "metadata": {
        "colab": {
          "base_uri": "https://localhost:8080/"
        },
        "id": "Lz4vY1bB5FHl",
        "outputId": "4b4a7e4e-7ca2-469a-c511-42ee923c1af0"
      },
      "source": [
        "#Ejemplo quantconnect\n",
        "print(Ar.shape)"
      ],
      "execution_count": 78,
      "outputs": [
        {
          "output_type": "stream",
          "name": "stdout",
          "text": [
            "(2, 2)\n"
          ]
        }
      ]
    },
    {
      "cell_type": "code",
      "metadata": {
        "colab": {
          "base_uri": "https://localhost:8080/"
        },
        "id": "HQC4-bGE5Lvl",
        "outputId": "01375bdb-88b5-4001-ab8b-f7bbfd70b379"
      },
      "source": [
        "#Ejemplo propio\n",
        "print(ndarr.shape)"
      ],
      "execution_count": 79,
      "outputs": [
        {
          "output_type": "stream",
          "name": "stdout",
          "text": [
            "(3, 3)\n"
          ]
        }
      ]
    },
    {
      "cell_type": "markdown",
      "metadata": {
        "id": "OP5RSGLA5U38"
      },
      "source": [
        "If we create an 2-dimensional array (i.e. matrix), each row can be accessed by index:"
      ]
    },
    {
      "cell_type": "code",
      "metadata": {
        "colab": {
          "base_uri": "https://localhost:8080/"
        },
        "id": "PaIx3LHR5Xmd",
        "outputId": "3f8a68e0-a2c0-498c-8a5c-89b59207805c"
      },
      "source": [
        "#Ejemplo quantconnect\n",
        "print(Ar[0])\n",
        "\n",
        "print(Ar[1])"
      ],
      "execution_count": 81,
      "outputs": [
        {
          "output_type": "stream",
          "name": "stdout",
          "text": [
            "[1 3]\n",
            "[2 4]\n"
          ]
        }
      ]
    },
    {
      "cell_type": "code",
      "metadata": {
        "colab": {
          "base_uri": "https://localhost:8080/"
        },
        "id": "EkMY_gse5gT7",
        "outputId": "7cc4dcfa-3b15-4fc9-9b6b-ebedeb3d4189"
      },
      "source": [
        "#Ejemplo propio\n",
        "print(ndarr[0])\n",
        "\n",
        "print(ndarr[2])"
      ],
      "execution_count": 83,
      "outputs": [
        {
          "output_type": "stream",
          "name": "stdout",
          "text": [
            "[1 2 3]\n",
            "[7 8 9]\n"
          ]
        }
      ]
    },
    {
      "cell_type": "markdown",
      "metadata": {
        "id": "haDSoybH5wTc"
      },
      "source": [
        "If we want to access the matrix by column instead:"
      ]
    },
    {
      "cell_type": "code",
      "metadata": {
        "colab": {
          "base_uri": "https://localhost:8080/"
        },
        "id": "Q_IS9Yzw5yKp",
        "outputId": "ff1e1fc8-8ef0-46d5-9de4-933cfb494069"
      },
      "source": [
        "#Ejemplo quantconnect\n",
        "print('First column:', Ar[:,0])\n",
        "\n",
        "print('Second column:', Ar[:,1])"
      ],
      "execution_count": 84,
      "outputs": [
        {
          "output_type": "stream",
          "name": "stdout",
          "text": [
            "First column: [1 2]\n",
            "Second column: [3 4]\n"
          ]
        }
      ]
    },
    {
      "cell_type": "code",
      "metadata": {
        "colab": {
          "base_uri": "https://localhost:8080/"
        },
        "id": "hsN-bIfA54dS",
        "outputId": "f28e2808-b573-4d8b-e241-42f17349b808"
      },
      "source": [
        "#Ejemplo propio\n",
        "print('second column:', ndarr[:,1])\n",
        "\n",
        "print('Third column:', ndarr[:,2])"
      ],
      "execution_count": 86,
      "outputs": [
        {
          "output_type": "stream",
          "name": "stdout",
          "text": [
            "second column: [2 5 8]\n",
            "Third column: [3 6 9]\n"
          ]
        }
      ]
    },
    {
      "cell_type": "markdown",
      "metadata": {
        "id": "rEYlt_7n_wOr"
      },
      "source": [
        "### **_Array Functions_**\n",
        "\n",
        "Some functions built in NumPy that allow us to perform calculations on arrays. For example, we can apply the natural logarithm to each element of an array:"
      ]
    },
    {
      "cell_type": "code",
      "metadata": {
        "colab": {
          "base_uri": "https://localhost:8080/"
        },
        "id": "jaZyNgdd_7ie",
        "outputId": "d3154693-b779-405e-9f1a-0937f126d520"
      },
      "source": [
        "#Ejemplo quantconnect\n",
        "np.log(price_array)"
      ],
      "execution_count": 87,
      "outputs": [
        {
          "output_type": "execute_result",
          "data": {
            "text/plain": [
              "array([4.96793654, 4.98244156, 4.9675886 , 4.96995218, 4.96633504,\n",
              "       4.96018375])"
            ]
          },
          "metadata": {},
          "execution_count": 87
        }
      ]
    },
    {
      "cell_type": "code",
      "metadata": {
        "colab": {
          "base_uri": "https://localhost:8080/"
        },
        "id": "uXqyty06AB32",
        "outputId": "c2735a81-d7a7-421d-c490-aaacff2c28bb"
      },
      "source": [
        "#Ejemplo propio\n",
        "np.log(ndarr[1])"
      ],
      "execution_count": 90,
      "outputs": [
        {
          "output_type": "execute_result",
          "data": {
            "text/plain": [
              "array([1.38629436, 1.60943791, 1.79175947])"
            ]
          },
          "metadata": {},
          "execution_count": 90
        }
      ]
    },
    {
      "cell_type": "markdown",
      "metadata": {
        "id": "iPrANWhrAj12"
      },
      "source": [
        "Other functions return a single value:"
      ]
    },
    {
      "cell_type": "code",
      "metadata": {
        "colab": {
          "base_uri": "https://localhost:8080/"
        },
        "id": "fr6s2O-5AlZW",
        "outputId": "50d2a4b2-f03f-4a83-f6f3-4cc3c7975425"
      },
      "source": [
        "#Ejemplo quantconnect\n",
        "np.mean(price_array)\n",
        "\n",
        "print(np.std(price_array))\n",
        "\n",
        "print(np.sum(price_array))\n",
        "\n",
        "print(np.max(price_array))\n"
      ],
      "execution_count": 95,
      "outputs": [
        {
          "output_type": "stream",
          "name": "stdout",
          "text": [
            "0.9673790478515796\n",
            "863.38\n",
            "145.83\n"
          ]
        }
      ]
    },
    {
      "cell_type": "code",
      "metadata": {
        "colab": {
          "base_uri": "https://localhost:8080/"
        },
        "id": "bmYdhYMTAxWk",
        "outputId": "118a33f1-9d4c-45de-9bde-5ac4e6d872bf"
      },
      "source": [
        "#Ejemplo propio\n",
        "np.mean(ndarr[2])\n",
        "\n",
        "print(np.std(ndarr[2])) #standard deviation\n",
        "\n",
        "print(np.sum(ndarr[2]))\n",
        "\n",
        "print(np.max(ndarr[2]))\n"
      ],
      "execution_count": 96,
      "outputs": [
        {
          "output_type": "stream",
          "name": "stdout",
          "text": [
            "0.816496580927726\n",
            "24\n",
            "9\n"
          ]
        }
      ]
    },
    {
      "cell_type": "markdown",
      "metadata": {
        "id": "7SFkeefqBZPv"
      },
      "source": [
        "The functions above return the mean, standard deviation, total and maximum value of an array."
      ]
    },
    {
      "cell_type": "markdown",
      "metadata": {
        "id": "OgDS8JlZBah-"
      },
      "source": [
        "## **Pandas**\n",
        "Pandas is one of the most powerful tools for dealing with financial data. First we need to import Pandas:"
      ]
    },
    {
      "cell_type": "code",
      "metadata": {
        "id": "UU2hyYP0B_aT"
      },
      "source": [
        "import pandas as pd"
      ],
      "execution_count": 3,
      "outputs": []
    },
    {
      "cell_type": "markdown",
      "metadata": {
        "id": "Me7coUwlCEis"
      },
      "source": [
        "### **_Series_**\n",
        "Series is a one-dimensional labeled array capable of holding any data type (integers, strings, float, Python object, etc.)\n",
        "\n",
        "We create a Series by calling pd.Series(data), where data can be a dictionary, an array or just a scalar value."
      ]
    },
    {
      "cell_type": "code",
      "metadata": {
        "colab": {
          "base_uri": "https://localhost:8080/"
        },
        "id": "aRxNhKqNCWPO",
        "outputId": "39c4f79b-d881-4110-8458-ae39ff84a83f"
      },
      "source": [
        "#Ejemplo quantconnect\n",
        "price = [143.73, 145.83, 143.68, 144.02, 143.5, 142.62]\n",
        "s = pd.Series(price)\n",
        "print(s)\n"
      ],
      "execution_count": 4,
      "outputs": [
        {
          "output_type": "stream",
          "name": "stdout",
          "text": [
            "0    143.73\n",
            "1    145.83\n",
            "2    143.68\n",
            "3    144.02\n",
            "4    143.50\n",
            "5    142.62\n",
            "dtype: float64\n"
          ]
        }
      ]
    },
    {
      "cell_type": "code",
      "metadata": {
        "colab": {
          "base_uri": "https://localhost:8080/"
        },
        "id": "mOQ18SpUClaA",
        "outputId": "6846391b-a12d-4567-ff40-fdb80de10f14"
      },
      "source": [
        "#Ejemplo propio\n",
        "num_flo = [1.2, 2.3, 3.4, 4.52, 4.65, 5.67]\n",
        "se = pd.Series(num_flo)\n",
        "print(se)"
      ],
      "execution_count": 5,
      "outputs": [
        {
          "output_type": "stream",
          "name": "stdout",
          "text": [
            "0    1.20\n",
            "1    2.30\n",
            "2    3.40\n",
            "3    4.52\n",
            "4    4.65\n",
            "5    5.67\n",
            "dtype: float64\n"
          ]
        }
      ]
    },
    {
      "cell_type": "markdown",
      "metadata": {
        "id": "iK1nHrKKDBzN"
      },
      "source": [
        "We can customize the indices of a new Series:\n",
        "\n"
      ]
    },
    {
      "cell_type": "code",
      "metadata": {
        "colab": {
          "base_uri": "https://localhost:8080/"
        },
        "id": "nq4PGgWUDDi1",
        "outputId": "b5cf1cba-fff8-4406-c2f0-47ca47702ba3"
      },
      "source": [
        "#Ejemplo quantconnect\n",
        "s = pd.Series(price, index = ['a', 'b', 'c', 'd', 'e', 'f'])\n",
        "print(s)"
      ],
      "execution_count": 6,
      "outputs": [
        {
          "output_type": "stream",
          "name": "stdout",
          "text": [
            "a    143.73\n",
            "b    145.83\n",
            "c    143.68\n",
            "d    144.02\n",
            "e    143.50\n",
            "f    142.62\n",
            "dtype: float64\n"
          ]
        }
      ]
    },
    {
      "cell_type": "code",
      "metadata": {
        "colab": {
          "base_uri": "https://localhost:8080/"
        },
        "id": "JRJpwmj6DIhp",
        "outputId": "a1ccb015-2cc6-4843-c5f6-4e969bb95ac1"
      },
      "source": [
        "#Ejemplo propio\n",
        "se = pd.Series(num_flo, index = [-1, -2, -3, -4, -5, -6])\n",
        "print(se)"
      ],
      "execution_count": 7,
      "outputs": [
        {
          "output_type": "stream",
          "name": "stdout",
          "text": [
            "-1    1.20\n",
            "-2    2.30\n",
            "-3    3.40\n",
            "-4    4.52\n",
            "-5    4.65\n",
            "-6    5.67\n",
            "dtype: float64\n"
          ]
        }
      ]
    },
    {
      "cell_type": "markdown",
      "metadata": {
        "id": "s4tWEmu1EVkN"
      },
      "source": [
        "Or we can change the indices of an existing Series:"
      ]
    },
    {
      "cell_type": "code",
      "metadata": {
        "colab": {
          "base_uri": "https://localhost:8080/"
        },
        "id": "rcCDYhiMEXUM",
        "outputId": "de79e739-eb84-4c7d-c969-5a0206df2658"
      },
      "source": [
        "#Ejemplo quantconnect\n",
        "s.index = [6,5,4,3,2,1]\n",
        "print(s)"
      ],
      "execution_count": 8,
      "outputs": [
        {
          "output_type": "stream",
          "name": "stdout",
          "text": [
            "6    143.73\n",
            "5    145.83\n",
            "4    143.68\n",
            "3    144.02\n",
            "2    143.50\n",
            "1    142.62\n",
            "dtype: float64\n"
          ]
        }
      ]
    },
    {
      "cell_type": "code",
      "metadata": {
        "colab": {
          "base_uri": "https://localhost:8080/"
        },
        "id": "ReCsXIviEgLI",
        "outputId": "ed4e32cd-359b-4f6e-d9c1-5ff9c811c994"
      },
      "source": [
        "#Ejemplo propio\n",
        "se.index = ['*','!','*','!','*','!']\n",
        "print(se)"
      ],
      "execution_count": 9,
      "outputs": [
        {
          "output_type": "stream",
          "name": "stdout",
          "text": [
            "*    1.20\n",
            "!    2.30\n",
            "*    3.40\n",
            "!    4.52\n",
            "*    4.65\n",
            "!    5.67\n",
            "dtype: float64\n"
          ]
        }
      ]
    },
    {
      "cell_type": "markdown",
      "metadata": {
        "id": "IxPtzsQbGyc1"
      },
      "source": [
        "Series is like a list since it can be sliced by index:\n",
        "\n"
      ]
    },
    {
      "cell_type": "code",
      "metadata": {
        "colab": {
          "base_uri": "https://localhost:8080/"
        },
        "id": "P5BQeIFbG1uK",
        "outputId": "e28bd6d0-68bd-463a-9aef-b1369056bb95"
      },
      "source": [
        "#Ejemplo quantconnect\n",
        "print(s[1:])\n",
        "print(s[:-2])"
      ],
      "execution_count": 10,
      "outputs": [
        {
          "output_type": "stream",
          "name": "stdout",
          "text": [
            "5    145.83\n",
            "4    143.68\n",
            "3    144.02\n",
            "2    143.50\n",
            "1    142.62\n",
            "dtype: float64\n",
            "6    143.73\n",
            "5    145.83\n",
            "4    143.68\n",
            "3    144.02\n",
            "dtype: float64\n"
          ]
        }
      ]
    },
    {
      "cell_type": "code",
      "metadata": {
        "colab": {
          "base_uri": "https://localhost:8080/"
        },
        "id": "zhb3jgrHn44D",
        "outputId": "088fd5a2-a82c-4f54-d337-09be03ac7a87"
      },
      "source": [
        "#Ejemplo propio\n",
        "print(se[2:])\n",
        "print(se[:-4])"
      ],
      "execution_count": 18,
      "outputs": [
        {
          "output_type": "stream",
          "name": "stdout",
          "text": [
            "*    3.40\n",
            "!    4.52\n",
            "*    4.65\n",
            "!    5.67\n",
            "dtype: float64\n",
            "*    1.2\n",
            "!    2.3\n",
            "dtype: float64\n"
          ]
        }
      ]
    },
    {
      "cell_type": "markdown",
      "metadata": {
        "id": "zspb0J_fpR1L"
      },
      "source": [
        "Series is also like a dictionary whose values can be set or fetched by index label:"
      ]
    },
    {
      "cell_type": "code",
      "metadata": {
        "colab": {
          "base_uri": "https://localhost:8080/"
        },
        "id": "ziRpwsNEpU2Y",
        "outputId": "6b018878-d1cb-4133-ce7a-7e3ff420becf"
      },
      "source": [
        "#Ejemplo quantconnect \n",
        "print(s[4])\n",
        "s[4] = 0\n",
        "print(s)"
      ],
      "execution_count": 19,
      "outputs": [
        {
          "output_type": "stream",
          "name": "stdout",
          "text": [
            "143.68\n",
            "6    143.73\n",
            "5    145.83\n",
            "4      0.00\n",
            "3    144.02\n",
            "2    143.50\n",
            "1    142.62\n",
            "dtype: float64\n"
          ]
        }
      ]
    },
    {
      "cell_type": "code",
      "metadata": {
        "colab": {
          "base_uri": "https://localhost:8080/"
        },
        "id": "E89X1TVnptTD",
        "outputId": "32e567a8-9fb6-420f-f6af-71375e0b7a80"
      },
      "source": [
        "#Ejemplo propio\n",
        "print(se[4])\n",
        "se[3] = 20\n",
        "print(se)"
      ],
      "execution_count": 20,
      "outputs": [
        {
          "output_type": "stream",
          "name": "stdout",
          "text": [
            "4.65\n",
            "*     1.20\n",
            "!     2.30\n",
            "*     3.40\n",
            "!    20.00\n",
            "*     4.65\n",
            "!     5.67\n",
            "dtype: float64\n"
          ]
        }
      ]
    },
    {
      "cell_type": "markdown",
      "metadata": {
        "id": "au9Ah593p3cN"
      },
      "source": [
        "Series can also have a name attribute, which will be used when we make up a Pandas DataFrame using several series."
      ]
    },
    {
      "cell_type": "code",
      "metadata": {
        "colab": {
          "base_uri": "https://localhost:8080/"
        },
        "id": "rdDS2pl-p8H8",
        "outputId": "fe0b750f-bdc0-4383-8789-49c21e7ab352"
      },
      "source": [
        "#Ejemplo quantconnect\n",
        "s = pd.Series(price, name = 'Apple Prices')\n",
        "print(s)\n",
        "print(s.name)"
      ],
      "execution_count": 21,
      "outputs": [
        {
          "output_type": "stream",
          "name": "stdout",
          "text": [
            "0    143.73\n",
            "1    145.83\n",
            "2    143.68\n",
            "3    144.02\n",
            "4    143.50\n",
            "5    142.62\n",
            "Name: Apple Prices, dtype: float64\n",
            "Apple Prices\n"
          ]
        }
      ]
    },
    {
      "cell_type": "code",
      "metadata": {
        "colab": {
          "base_uri": "https://localhost:8080/"
        },
        "id": "qdKeRFWfqF-z",
        "outputId": "03ad93de-ab57-4c8e-d326-56993fcfe6ad"
      },
      "source": [
        "#Ejemplo propio\n",
        "se = pd.Series(num_flo, name = 'numeros flotantes y entero')\n",
        "print(se)\n",
        "print(se.name)"
      ],
      "execution_count": 22,
      "outputs": [
        {
          "output_type": "stream",
          "name": "stdout",
          "text": [
            "0    1.20\n",
            "1    2.30\n",
            "2    3.40\n",
            "3    4.52\n",
            "4    4.65\n",
            "5    5.67\n",
            "Name: numeros flotantes y entero, dtype: float64\n",
            "numeros flotantes y entero\n"
          ]
        }
      ]
    },
    {
      "cell_type": "markdown",
      "metadata": {
        "id": "94MRDNyLqXX9"
      },
      "source": [
        "We can get the statistical summaries of a Series:"
      ]
    },
    {
      "cell_type": "code",
      "metadata": {
        "colab": {
          "base_uri": "https://localhost:8080/"
        },
        "id": "9U6mLYsOqZ0L",
        "outputId": "2cb0e7a0-c6bc-41ed-e677-49a7d7090ed4"
      },
      "source": [
        "#Ejemplo quantconnect\n",
        "print(s.describe())\n"
      ],
      "execution_count": 23,
      "outputs": [
        {
          "output_type": "stream",
          "name": "stdout",
          "text": [
            "count      6.000000\n",
            "mean     143.896667\n",
            "std        1.059711\n",
            "min      142.620000\n",
            "25%      143.545000\n",
            "50%      143.705000\n",
            "75%      143.947500\n",
            "max      145.830000\n",
            "Name: Apple Prices, dtype: float64\n"
          ]
        }
      ]
    },
    {
      "cell_type": "code",
      "metadata": {
        "colab": {
          "base_uri": "https://localhost:8080/"
        },
        "id": "2338bvbqqfJj",
        "outputId": "bfacb0ae-7636-48c9-c904-1455878adc9c"
      },
      "source": [
        "#Ejemplo propio\n",
        "print(se.describe())"
      ],
      "execution_count": 24,
      "outputs": [
        {
          "output_type": "stream",
          "name": "stdout",
          "text": [
            "count    6.000000\n",
            "mean     3.623333\n",
            "std      1.656535\n",
            "min      1.200000\n",
            "25%      2.575000\n",
            "50%      3.960000\n",
            "75%      4.617500\n",
            "max      5.670000\n",
            "Name: numeros flotantes y entero, dtype: float64\n"
          ]
        }
      ]
    },
    {
      "cell_type": "markdown",
      "metadata": {
        "id": "0ML81ssLqqxn"
      },
      "source": [
        "### **_Time Index_**\n",
        "Pandas has a built-in function specifically for creating date indices: pd.date_range(). We use it to create a new index for our Series:"
      ]
    },
    {
      "cell_type": "code",
      "metadata": {
        "colab": {
          "base_uri": "https://localhost:8080/"
        },
        "id": "X_HSVErzrB5O",
        "outputId": "9f8957ad-7a89-4084-b2f0-0d832d75e719"
      },
      "source": [
        "#Ejemplo quantconnect\n",
        "time_index = pd.date_range('2017-01-01', periods = len(s), freq = 'D')\n",
        "print(time_index)\n",
        "s.index = time_index\n",
        "print(s)"
      ],
      "execution_count": 38,
      "outputs": [
        {
          "output_type": "stream",
          "name": "stdout",
          "text": [
            "DatetimeIndex(['2017-01-01', '2017-01-02', '2017-01-03', '2017-01-04',\n",
            "               '2017-01-05', '2017-01-06'],\n",
            "              dtype='datetime64[ns]', freq='D')\n",
            "2017-01-01    143.73\n",
            "2017-01-02    145.83\n",
            "2017-01-03    143.68\n",
            "2017-01-04    144.02\n",
            "2017-01-05    143.50\n",
            "2017-01-06    142.62\n",
            "Freq: D, Name: Apple Prices, dtype: float64\n"
          ]
        }
      ]
    },
    {
      "cell_type": "code",
      "metadata": {
        "colab": {
          "base_uri": "https://localhost:8080/"
        },
        "id": "3QEwMbdlrP6B",
        "outputId": "b8ebbbf2-3d1b-426c-feef-6eb42904a67a"
      },
      "source": [
        "#Ejemplo quantconnect\n",
        "time_index = pd.date_range('2021-10-22', periods = len(se), freq = 'M')#freq = year/month/day \n",
        "print(time_index)\n",
        "se.index = time_index\n",
        "print(se)"
      ],
      "execution_count": 45,
      "outputs": [
        {
          "output_type": "stream",
          "name": "stdout",
          "text": [
            "DatetimeIndex(['2021-10-31', '2021-11-30', '2021-12-31', '2022-01-31',\n",
            "               '2022-02-28', '2022-03-31'],\n",
            "              dtype='datetime64[ns]', freq='M')\n",
            "2021-10-31    1.20\n",
            "2021-11-30    2.30\n",
            "2021-12-31    3.40\n",
            "2022-01-31    4.52\n",
            "2022-02-28    4.65\n",
            "2022-03-31    5.67\n",
            "Freq: M, Name: numeros flotantes y entero, dtype: float64\n"
          ]
        }
      ]
    },
    {
      "cell_type": "markdown",
      "metadata": {
        "id": "fkVjrWPar-RI"
      },
      "source": [
        "Series are usually accessed using the iloc[] and loc[] methods. iloc[] is used to access elements by integer index, and loc[] is used to access the index of the series.\n",
        "\n",
        "iloc[] is necessary when the index of a series are integers, take our previous defined series as example:"
      ]
    },
    {
      "cell_type": "code",
      "metadata": {
        "colab": {
          "base_uri": "https://localhost:8080/"
        },
        "id": "HET3bHRPsCPk",
        "outputId": "a5a313ed-43cc-4229-bf6b-2353a00bf001"
      },
      "source": [
        "#Ejemplo quantconnect\n",
        "s.index = [6,5,4,3,2,1]\n",
        "print(s)\n",
        "print(s[1])"
      ],
      "execution_count": 31,
      "outputs": [
        {
          "output_type": "stream",
          "name": "stdout",
          "text": [
            "6    143.73\n",
            "5    145.83\n",
            "4    143.68\n",
            "3    144.02\n",
            "2    143.50\n",
            "1    142.62\n",
            "Name: Apple Prices, dtype: float64\n",
            "142.62\n"
          ]
        }
      ]
    },
    {
      "cell_type": "code",
      "metadata": {
        "colab": {
          "base_uri": "https://localhost:8080/"
        },
        "id": "XZHRe3knsrsb",
        "outputId": "4aef7594-e4a4-4f98-9e80-b6292d7741c0"
      },
      "source": [
        "#Ejemplo propio\n",
        "se.index = [1,2,3,4,5,6]\n",
        "print(se)\n",
        "print(se[1])"
      ],
      "execution_count": 32,
      "outputs": [
        {
          "output_type": "stream",
          "name": "stdout",
          "text": [
            "1    1.20\n",
            "2    2.30\n",
            "3    3.40\n",
            "4    4.52\n",
            "5    4.65\n",
            "6    5.67\n",
            "Name: numeros flotantes y entero, dtype: float64\n",
            "1.2\n"
          ]
        }
      ]
    },
    {
      "cell_type": "markdown",
      "metadata": {
        "id": "bGvYvczas7v-"
      },
      "source": [
        "If we intended to take the second element of the series, we would make a mistake here, because the index are integers. In order to access to the element we want, we use iloc[] here:"
      ]
    },
    {
      "cell_type": "code",
      "metadata": {
        "colab": {
          "base_uri": "https://localhost:8080/"
        },
        "id": "QLAPunhus9YG",
        "outputId": "d65a3ec9-0378-432b-d9a3-0d61b75c4214"
      },
      "source": [
        "#Ejemplo quantconnect\n",
        "print(s.iloc[1])"
      ],
      "execution_count": 35,
      "outputs": [
        {
          "output_type": "stream",
          "name": "stdout",
          "text": [
            "145.83\n"
          ]
        }
      ]
    },
    {
      "cell_type": "code",
      "metadata": {
        "colab": {
          "base_uri": "https://localhost:8080/"
        },
        "id": "V15SuCYFtIh-",
        "outputId": "9dd11a49-44a8-4df6-9ae7-e8057340c0c7"
      },
      "source": [
        "#Ejemplo propio\n",
        "print(se.iloc[4])"
      ],
      "execution_count": 36,
      "outputs": [
        {
          "output_type": "stream",
          "name": "stdout",
          "text": [
            "4.65\n"
          ]
        }
      ]
    },
    {
      "cell_type": "markdown",
      "metadata": {
        "id": "4HC4ebgBtYDU"
      },
      "source": [
        "While working with time series data, we often use time as the index. Pandas provides us with various methods to access the data by time index.\n",
        "\n"
      ]
    },
    {
      "cell_type": "code",
      "metadata": {
        "colab": {
          "base_uri": "https://localhost:8080/"
        },
        "id": "GybU133wtZ7C",
        "outputId": "43e5e646-70ad-4a03-8302-735ba6b1fbbf"
      },
      "source": [
        "#Ejemplo quantconnect\n",
        "s.index = time_index\n",
        "print(s['2017-01-03'])"
      ],
      "execution_count": 39,
      "outputs": [
        {
          "output_type": "stream",
          "name": "stdout",
          "text": [
            "143.68\n"
          ]
        }
      ]
    },
    {
      "cell_type": "code",
      "metadata": {
        "colab": {
          "base_uri": "https://localhost:8080/"
        },
        "id": "7H1iOVsjtsaF",
        "outputId": "aae24882-2d84-4de6-99e1-800b7f8d7786"
      },
      "source": [
        "#Ejemplo propio\n",
        "se.index = time_index\n",
        "print(se['2021-12-31'])"
      ],
      "execution_count": 46,
      "outputs": [
        {
          "output_type": "stream",
          "name": "stdout",
          "text": [
            "3.4\n"
          ]
        }
      ]
    },
    {
      "cell_type": "markdown",
      "metadata": {
        "id": "z8QBtzzbud3k"
      },
      "source": [
        "We can even access to a range of dates:"
      ]
    },
    {
      "cell_type": "code",
      "metadata": {
        "colab": {
          "base_uri": "https://localhost:8080/"
        },
        "id": "dzyCo887ugOx",
        "outputId": "e9a3bf0d-c303-478b-d4c7-9284e77454fb"
      },
      "source": [
        "#Ejemplo quantconnect\n",
        "print(s['2017-01-02':'2017-01-05'])\n"
      ],
      "execution_count": 47,
      "outputs": [
        {
          "output_type": "stream",
          "name": "stdout",
          "text": [
            "2017-01-02    145.83\n",
            "2017-01-03    143.68\n",
            "2017-01-04    144.02\n",
            "2017-01-05    143.50\n",
            "Freq: D, Name: Apple Prices, dtype: float64\n"
          ]
        }
      ]
    },
    {
      "cell_type": "code",
      "metadata": {
        "colab": {
          "base_uri": "https://localhost:8080/"
        },
        "id": "2enfstJwumQS",
        "outputId": "83d23a8a-7afb-4892-f258-1a383a8fcaf2"
      },
      "source": [
        "#Ejemplo propio\n",
        "print(se['2021-11-30':'2022-02-28'])"
      ],
      "execution_count": 50,
      "outputs": [
        {
          "output_type": "stream",
          "name": "stdout",
          "text": [
            "2021-11-30    2.30\n",
            "2021-12-31    3.40\n",
            "2022-01-31    4.52\n",
            "2022-02-28    4.65\n",
            "Freq: M, Name: numeros flotantes y entero, dtype: float64\n"
          ]
        }
      ]
    },
    {
      "cell_type": "markdown",
      "metadata": {
        "id": "4T3NTgLRu-wg"
      },
      "source": [
        "Series[] provides us a very flexible way to index data. We can add any condition in the square brackets:"
      ]
    },
    {
      "cell_type": "code",
      "metadata": {
        "colab": {
          "base_uri": "https://localhost:8080/"
        },
        "id": "XKhZc0GTvEHE",
        "outputId": "8bd1ff72-8ae5-495d-e207-614e65334882"
      },
      "source": [
        "#Ejemplo quantconnect\n",
        "print(s[s < np.mean(s)])\n",
        "print(s[(s > np.mean(s)) & (s < np.mean(s) + 1.64*np.std(s))])"
      ],
      "execution_count": 52,
      "outputs": [
        {
          "output_type": "stream",
          "name": "stdout",
          "text": [
            "2017-01-01    143.73\n",
            "2017-01-03    143.68\n",
            "2017-01-05    143.50\n",
            "2017-01-06    142.62\n",
            "Name: Apple Prices, dtype: float64\n",
            "2017-01-04    144.02\n",
            "Freq: D, Name: Apple Prices, dtype: float64\n"
          ]
        }
      ]
    },
    {
      "cell_type": "code",
      "metadata": {
        "colab": {
          "base_uri": "https://localhost:8080/"
        },
        "id": "_IbPYSPLvWTK",
        "outputId": "fd773f57-cf63-4bc0-84c5-a10eaeba8503"
      },
      "source": [
        "#Ejemplo propio\n",
        "print(se[se > np.mean(se)])\n",
        "print(se[(se > np.mean(se)) | (se < np.mean(se) + 1.64*np.std(se))])"
      ],
      "execution_count": 60,
      "outputs": [
        {
          "output_type": "stream",
          "name": "stdout",
          "text": [
            "2022-01-31    4.52\n",
            "2022-02-28    4.65\n",
            "2022-03-31    5.67\n",
            "Freq: M, Name: numeros flotantes y entero, dtype: float64\n",
            "2021-10-31    1.20\n",
            "2021-11-30    2.30\n",
            "2021-12-31    3.40\n",
            "2022-01-31    4.52\n",
            "2022-02-28    4.65\n",
            "2022-03-31    5.67\n",
            "Freq: M, Name: numeros flotantes y entero, dtype: float64\n"
          ]
        }
      ]
    },
    {
      "cell_type": "markdown",
      "metadata": {
        "id": "guGedfTzwQg_"
      },
      "source": [
        "As demonstrated, we can use logical operators like & (and), | (or) and ~ (not) to group multiple conditions."
      ]
    },
    {
      "cell_type": "markdown",
      "metadata": {
        "id": "k__zkvj3wXPu"
      },
      "source": [
        "### **Summary**\n",
        "Here we have introduced NumPy and Pandas for scientific computing in Python. In the next chapter, we will dive into Pandas to learn resampling and manipulating Pandas DataFrame, which are commonly used in financial data analysis."
      ]
    }
  ]
}