{
  "nbformat": 4,
  "nbformat_minor": 0,
  "metadata": {
    "colab": {
      "name": "AlgorithmicToolboxWeek3Group28.ipynb",
      "provenance": [],
      "authorship_tag": "ABX9TyMhCssZOpv8PnDlQXXsLAJh",
      "include_colab_link": true
    },
    "kernelspec": {
      "name": "python3",
      "display_name": "Python 3"
    },
    "language_info": {
      "name": "python"
    }
  },
  "cells": [
    {
      "cell_type": "markdown",
      "metadata": {
        "id": "view-in-github",
        "colab_type": "text"
      },
      "source": [
        "<a href=\"https://colab.research.google.com/github/gimoralesg/AlgorithmsUN2021II/blob/main/Lab13/AlgorithmicToolboxWeek3Group28.ipynb\" target=\"_parent\"><img src=\"https://colab.research.google.com/assets/colab-badge.svg\" alt=\"Open In Colab\"/></a>"
      ]
    },
    {
      "cell_type": "markdown",
      "source": [
        "#**Semana 3 - Algorithmic Toolbox problemas**\n",
        "\n",
        "\n",
        "##**1. Money Change**"
      ],
      "metadata": {
        "id": "jNHYjSBQW7Vc"
      }
    },
    {
      "cell_type": "code",
      "execution_count": 22,
      "metadata": {
        "colab": {
          "base_uri": "https://localhost:8080/"
        },
        "id": "_Qvfd3MHV3NN",
        "outputId": "9236f3e5-023b-4c2a-8b7f-616eb05e78dc"
      },
      "outputs": [
        {
          "output_type": "stream",
          "name": "stdout",
          "text": [
            "Overwriting moneychange.cpp\n"
          ]
        }
      ],
      "source": [
        "%%writefile moneychange.cpp\n",
        "#include <iostream>\n",
        "using nam\n",
        "\n",
        "int get_change(int m) {\n",
        "  //write your code here\n",
        "  int n = 0;\n",
        "  while(m > 0){\n",
        "    if(m/10 != 0){\n",
        "      n = m / 10;\n",
        "      m %= 10; \n",
        "    }else if(m/5 != 0){\n",
        "      n += m/5;\n",
        "      m %= 5;  \n",
        "    }else{\n",
        "      n += m/1;\n",
        "      m %= 1; \n",
        "    }\n",
        "  }\n",
        "  return n;\n",
        "}\n",
        "\n",
        "int main(){\n",
        "  int m;\n",
        "  std::cin >> m;\n",
        "  std::cout << get_change(m) << '\\n';\n",
        "}\n"
      ]
    },
    {
      "cell_type": "code",
      "source": [
        "!g++ moneychange.cpp && ./a.out"
      ],
      "metadata": {
        "colab": {
          "base_uri": "https://localhost:8080/"
        },
        "id": "SSIoLGo_a2cD",
        "outputId": "4aa9bfe0-0a46-4448-9370-81f6d5f841c5"
      },
      "execution_count": 30,
      "outputs": [
        {
          "output_type": "stream",
          "name": "stdout",
          "text": [
            "28\n",
            "6\n"
          ]
        }
      ]
    },
    {
      "cell_type": "markdown",
      "source": [
        "##**2. Maximum Value of the Loot**"
      ],
      "metadata": {
        "id": "nob1D6oHXQQq"
      }
    },
    {
      "cell_type": "code",
      "source": [
        "%%writefile knapsack_frac.cpp\n",
        "\n",
        "#include <iostream>\n",
        "#include <vector>\n",
        "using std::vector;\n",
        "using namespace std;\n",
        "\n",
        "\n",
        "int valor_max(vector<int> weights, vector<int> values){\n",
        "  double max = 0.0;\n",
        "  int max_i = 0;\n",
        "  for(int i = 0; i< values.size();i++){\n",
        "    if((values[i]+0.0)/(weights[i]+0.0) > max ){\n",
        "      max_i = i;\n",
        "      max = (values[i]+0.0)/(weights[i]+0.0);\n",
        "    } \n",
        "  }\n",
        "  if(max == 0){\n",
        "    return -1;\n",
        "  }\n",
        "  return max_i;\n",
        "}\n",
        "\n",
        "double get_optimal_value(int capacity, vector<int> weights, vector<int> values){\n",
        "  double value = 0.0;\n",
        "\n",
        "  // write your code here\n",
        "  while(capacity>0){\n",
        "    int max_i = valor_max(weights, values);\n",
        "    if(max_i == -1) return value;\n",
        "    double prop = (values[max_i]+0.0)/(weights[max_i]+0.0);\n",
        "    if(capacity <= weights[max_i]){\n",
        "      value += prop * capacity;\n",
        "      return value;\n",
        "    }\n",
        "    else{\n",
        "      value += prop * weights[max_i]; \n",
        "      capacity -= weights[max_i];\n",
        "    }\n",
        "    values[max_i] = 0;\n",
        "  }\n",
        "  return value;\n",
        "}\n",
        "\n",
        "int main() {\n",
        "  int n;\n",
        "  int capacity;\n",
        "  std::cin >> n >> capacity;\n",
        "  vector<int> values(n);\n",
        "  vector<int> weights(n);\n",
        "  for (int i = 0; i < n; i++) {\n",
        "    std::cin >> values[i] >> weights[i];\n",
        "  }\n",
        "\n",
        "  double optimal_value = get_optimal_value(capacity, weights, values);\n",
        "\n",
        "  std::cout.precision(10);\n",
        "  std::cout << optimal_value << std::endl;\n",
        "  return 0;\n",
        "}\n"
      ],
      "metadata": {
        "colab": {
          "base_uri": "https://localhost:8080/"
        },
        "id": "Lx7VIc3aXP4c",
        "outputId": "a104c109-4d8b-4496-b8ce-5885f9597ca9"
      },
      "execution_count": 28,
      "outputs": [
        {
          "output_type": "stream",
          "name": "stdout",
          "text": [
            "Overwriting knapsack_frac.cpp\n"
          ]
        }
      ]
    },
    {
      "cell_type": "code",
      "source": [
        "!g++ knapsack_frac.cpp && ./a.out"
      ],
      "metadata": {
        "colab": {
          "base_uri": "https://localhost:8080/"
        },
        "id": "HrhyRbzbcKZy",
        "outputId": "a2a4fae2-6c5f-4986-9367-3a74ea0db973"
      },
      "execution_count": 29,
      "outputs": [
        {
          "output_type": "stream",
          "name": "stdout",
          "text": [
            "3 50 60 20 100 50 120 30\n",
            "180\n"
          ]
        }
      ]
    },
    {
      "cell_type": "markdown",
      "source": [
        "##**3. Car Fueling**"
      ],
      "metadata": {
        "id": "WAL5PaR2Xdx6"
      }
    },
    {
      "cell_type": "code",
      "source": [
        "%%writefile carfuel.cpp\n",
        "\n",
        "#include <iostream>\n",
        "#include <vector>\n",
        "\n",
        "using std::cin;\n",
        "using std::cout;\n",
        "using std::vector;\n",
        "using std::max;\n",
        "using std::endl;\n",
        "\n",
        "int compute_min_refills(int dist, int tank, vector<int> & stops) {\n",
        "    // write your code here\n",
        "    int totalFuel = tank;\n",
        "    int i = 0;\n",
        "    int tray = 0;\n",
        "    int totalSteps = 0;\n",
        "\n",
        "    while(tray<dist){\n",
        "      while(i<(stops.size()) && stops[i]<=totalFuel){\n",
        "          tray = stops[i];\n",
        "          i++;\n",
        "      }\n",
        "      if(i == stops.size()){\n",
        "        return totalSteps;\n",
        "      }\n",
        "      totalSteps++;\n",
        "      totalFuel = tray  + tank;\n",
        "      if((stops[i])>totalFuel){\n",
        "        return -1;\n",
        "      }\n",
        "    }\n",
        "    return -1;\n",
        "}\n",
        "\n",
        "\n",
        "int main() {\n",
        "    int d = 0;\n",
        "    cin >> d;\n",
        "    int m = 0;\n",
        "    cin >> m;\n",
        "    int n = 0;\n",
        "    cin >> n;\n",
        "\n",
        "    vector<int> stops(n+1);\n",
        "    for (size_t i = 0; i < n; ++i)\n",
        "        cin >> stops.at(i);\n",
        "    stops[stops.size()-1] = d;\n",
        "    //cout<<stops[stops.size()-1];\n",
        "    cout << compute_min_refills(d, m, stops) << \"\\n\";\n",
        "\n",
        "    return 0;\n",
        "}"
      ],
      "metadata": {
        "colab": {
          "base_uri": "https://localhost:8080/"
        },
        "id": "mL75MtPcXksG",
        "outputId": "dba167c8-2489-418e-e09c-dbf97404f425"
      },
      "execution_count": 31,
      "outputs": [
        {
          "output_type": "stream",
          "name": "stdout",
          "text": [
            "Writing carfuel.cpp\n"
          ]
        }
      ]
    },
    {
      "cell_type": "code",
      "source": [
        "!g++ carfuel.cpp && ./a.out"
      ],
      "metadata": {
        "colab": {
          "base_uri": "https://localhost:8080/"
        },
        "id": "yk84sCLOiamc",
        "outputId": "9c0dcc1d-a63b-4e3d-ac03-a038b298e9f8"
      },
      "execution_count": 32,
      "outputs": [
        {
          "output_type": "stream",
          "name": "stdout",
          "text": [
            "950 400 4 200 375 550 750\n",
            "2\n"
          ]
        }
      ]
    },
    {
      "cell_type": "markdown",
      "source": [
        "##**Screenshot Submission**\n"
      ],
      "metadata": {
        "id": "OacQrRvNlFmV"
      }
    },
    {
      "cell_type": "markdown",
      "source": [
        "![scGianMorales](https://raw.githubusercontent.com/gimoralesg/AlgorithmsUN2021II/main/Lab13/SC%20week3ATcoursera.png)"
      ],
      "metadata": {
        "id": "NA46RtSxmHV7"
      }
    }
  ]
}